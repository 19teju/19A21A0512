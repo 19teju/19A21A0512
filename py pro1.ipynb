{
  "nbformat": 4,
  "nbformat_minor": 0,
  "metadata": {
    "colab": {
      "name": " plp3",
      "provenance": [],
      "collapsed_sections": [],
      "authorship_tag": "ABX9TyPbafubU1uEBXZLUo4OTRCL",
      "include_colab_link": true
    },
    "kernelspec": {
      "name": "python3",
      "display_name": "Python 3"
    },
    "language_info": {
      "name": "python"
    }
  },
  "cells": [
    {
      "cell_type": "markdown",
      "metadata": {
        "id": "view-in-github",
        "colab_type": "text"
      },
      "source": [
        "<a href=\"https://colab.research.google.com/github/19teju/python-lab/blob/main/py%20pro1.ipynb\" target=\"_parent\"><img src=\"https://colab.research.google.com/assets/colab-badge.svg\" alt=\"Open In Colab\"/></a>"
      ]
    },
    {
      "cell_type": "code",
      "metadata": {
        "colab": {
          "base_uri": "https://localhost:8080/"
        },
        "id": "IwyXzqpAoreM",
        "outputId": "ae3db9cf-0d3a-4e58-f8f2-9a6758f43367"
      },
      "source": [
        "print(\"welcome to python\")\n",
        "a=20\n",
        "b=50\n",
        "print(a+b)\n",
        "print(a-b)\n",
        "print(a*b)\n",
        "print(a/b)"
      ],
      "execution_count": null,
      "outputs": [
        {
          "output_type": "stream",
          "text": [
            "welcome to python\n",
            "70\n",
            "-30\n",
            "1000\n",
            "0.4\n"
          ],
          "name": "stdout"
        }
      ]
    },
    {
      "cell_type": "code",
      "metadata": {
        "colab": {
          "base_uri": "https://localhost:8080/"
        },
        "id": "9UcXxo1Psbmn",
        "outputId": "ea49460e-1df7-41b6-dbff-4d33ad4f8eee"
      },
      "source": [
        "import math\n",
        "x1=int(input(\"enter value of x1:\"))\n",
        "x2=int(input(\"enter value of x2:\"))\n",
        "y1=int(input(\"enter value of y1:\"))\n",
        "y2=int(input(\"enter value of y2:\"))\n",
        "d=math.sqrt((x2-x1)**2)+((y2-y1)**2)\n",
        "print(\"distance between 2 points:\",d)\n",
        "\n"
      ],
      "execution_count": null,
      "outputs": [
        {
          "output_type": "stream",
          "text": [
            "enter value of x1:15\n",
            "enter value of x2:25\n",
            "enter value of y1:85\n",
            "enter value of y2:45\n",
            "distance between 2 points: 1610.0\n"
          ],
          "name": "stdout"
        }
      ]
    },
    {
      "cell_type": "code",
      "metadata": {
        "colab": {
          "base_uri": "https://localhost:8080/"
        },
        "id": "-9v3k4KDtmP_",
        "outputId": "89ae8fa0-20be-4898-96ea-995f2eda7c67"
      },
      "source": [
        "n=int(input(\"enter a number:\"))\n",
        "if n%2==0:\n",
        "  print(\"it is even\")\n",
        "else:\n",
        "  print(\"it is odd\")"
      ],
      "execution_count": null,
      "outputs": [
        {
          "output_type": "stream",
          "text": [
            "enter a number:52\n",
            "it is even\n"
          ],
          "name": "stdout"
        }
      ]
    },
    {
      "cell_type": "code",
      "metadata": {
        "colab": {
          "base_uri": "https://localhost:8080/"
        },
        "id": "QWd6X-rsvpHV",
        "outputId": "6d8f4f4b-736d-428b-bb8e-f8a6b8c77b02"
      },
      "source": [
        "n=int(input(\"enter a number\"))\n",
        "for i in range(2,n):\n",
        "  de=1/i\n",
        "  print(\"1/\"+str(i)+\"=\",de)"
      ],
      "execution_count": null,
      "outputs": [
        {
          "output_type": "stream",
          "text": [
            "enter a number14\n",
            "1/2= 0.5\n",
            "1/3= 0.3333333333333333\n",
            "1/4= 0.25\n",
            "1/5= 0.2\n",
            "1/6= 0.16666666666666666\n",
            "1/7= 0.14285714285714285\n",
            "1/8= 0.125\n",
            "1/9= 0.1111111111111111\n",
            "1/10= 0.1\n",
            "1/11= 0.09090909090909091\n",
            "1/12= 0.08333333333333333\n",
            "1/13= 0.07692307692307693\n"
          ],
          "name": "stdout"
        }
      ]
    }
  ]
}