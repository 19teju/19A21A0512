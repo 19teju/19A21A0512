{
  "nbformat": 4,
  "nbformat_minor": 0,
  "metadata": {
    "colab": {
      "name": "19A21A0512 -TEJASRI.ELURI",
      "provenance": [],
      "authorship_tag": "ABX9TyPjrZiXfQw9vnqgOrRSbS40",
      "include_colab_link": true
    },
    "kernelspec": {
      "name": "python3",
      "display_name": "Python 3"
    },
    "language_info": {
      "name": "python"
    }
  },
  "cells": [
    {
      "cell_type": "markdown",
      "metadata": {
        "id": "view-in-github",
        "colab_type": "text"
      },
      "source": [
        "<a href=\"https://colab.research.google.com/github/19teju/19A21A0512/blob/main/19A21A0512_TEJASRI_ELURI.ipynb\" target=\"_parent\"><img src=\"https://colab.research.google.com/assets/colab-badge.svg\" alt=\"Open In Colab\"/></a>"
      ]
    },
    {
      "cell_type": "markdown",
      "metadata": {
        "id": "jJTCFgsFa2bY"
      },
      "source": [
        "# PYTHON LAB EXERCISE PROGRAMS"
      ]
    },
    {
      "cell_type": "markdown",
      "metadata": {
        "id": "KyfFiuS6bkde"
      },
      "source": [
        "\n",
        "```\n",
        " NAME   :Tejasri.Eluri\n",
        " REGD NO:19A21A0512\n",
        " SECTION:CSE-A\n",
        " LAB    :Python\n",
        "```\n",
        "\n"
      ]
    },
    {
      "cell_type": "markdown",
      "metadata": {
        "id": "cyt4enldcfJ7"
      },
      "source": [
        "1.sample program of python?"
      ]
    },
    {
      "cell_type": "code",
      "metadata": {
        "id": "0i0SI9lEvPxq"
      },
      "source": [
        "a=10\n",
        "b=51\n",
        "print(a+b)\n",
        "print(a*b)\n",
        "print(\"welcome to PYTHON\")"
      ],
      "execution_count": null,
      "outputs": []
    },
    {
      "cell_type": "code",
      "metadata": {
        "id": "o0JETK3RzbjU"
      },
      "source": [
        "##DISTANCE BETWEEN TWO POINTS##\n",
        "\n",
        "import math\n",
        "x1=int(input(\"enter value of x1:\"))\n",
        "x2=int(input(\"enter value of x2:\"))\n",
        "y1=int(input(\"enter value of y1:\"))\n",
        "y2=int(input(\"enter value of y2:\"))\n",
        "d=math.sqrt((x2-x1)**2)+((y2-y1)**2)\n",
        "print(\"Distance between ({},{}) and ({},{}) points is {}:\".format(x1,y1,x2,y2,d))\n"
      ],
      "execution_count": null,
      "outputs": []
    },
    {
      "cell_type": "code",
      "metadata": {
        "id": "b87QQkt44liP"
      },
      "source": [
        "## check the given number is even or not##\n",
        "\n",
        "n=int(input(\"enter a number:\"))\n",
        "if n%2==0:\n",
        "  print(\"given number is EVEN NUMBER\")\n",
        "else:\n",
        "  print(\"given number is NOT EVEN NUMBER,it is ODD number\")"
      ],
      "execution_count": null,
      "outputs": []
    },
    {
      "cell_type": "code",
      "metadata": {
        "id": "ZMGKBXp86ocL"
      },
      "source": [
        "## DECIMAL EQUIVALENT ##\n",
        "\n",
        "n=int(input(\"enter a number:\"))\n",
        "for i in range(2,n):\n",
        "  de=1/i\n",
        "  print(\"1/\"+str(i)+\"=\",de)"
      ],
      "execution_count": null,
      "outputs": []
    },
    {
      "cell_type": "code",
      "metadata": {
        "colab": {
          "base_uri": "https://localhost:8080/"
        },
        "id": "1RWmooy39sjt",
        "outputId": "d5b5fe71-83a4-4ea7-f33c-b83201f1b9af"
      },
      "source": [
        "## NUMBER SEQUENCE ##\n",
        "\n",
        "print(\"number sequence:\")\n",
        "num=[10,20,30,40,50]\n",
        "for i in num:\n",
        "  print(i)\n",
        "print(\"\\n\\n\")\n",
        "\n",
        "##string sequence##\n",
        "print(\"string sequence\")\n",
        "string=[\"sun\",\"mon\",\"5\",\"375\"]\n",
        "for s in string:\n",
        "  print(s)"
      ],
      "execution_count": null,
      "outputs": [
        {
          "output_type": "stream",
          "text": [
            "number sequence:\n",
            "10\n",
            "20\n",
            "30\n",
            "40\n",
            "50\n",
            "\n",
            "\n",
            "\n",
            "string sequence\n",
            "sun\n",
            "mon\n",
            "5\n",
            "375\n"
          ],
          "name": "stdout"
        }
      ]
    },
    {
      "cell_type": "code",
      "metadata": {
        "id": "d7PR-otaBRxA"
      },
      "source": [
        "## COUNTDOWN FROM N TO ZERO ##\n",
        "\n",
        "n=int(input(\"enter a number:\"))\n",
        "while n>0:\n",
        "  print(n)\n",
        "  n-=1"
      ],
      "execution_count": null,
      "outputs": []
    },
    {
      "cell_type": "code",
      "metadata": {
        "id": "rwZEVVv_BtAH"
      },
      "source": [
        "n1=int(input(\"enter starting number:\"))\n",
        "n2=int(input(\"enter ending number:\"))\n",
        "c=0\n",
        "sum=0\n",
        "st=\" \"\n",
        "for i in range(n1,n2):\n",
        "  state=True\n",
        "  for i in range(2,i):\n",
        "    if(i%j)==0:\n",
        "      state=False\n",
        "      break;\n",
        "    if state=True:\n",
        "      st+=\" \"+str(i)\n",
        "      c+=1\n",
        "      sum+=i\n",
        "print(\"prime numbers in between\",n1,\"to\",n2)\n",
        "print(st)\n",
        "print(\"total number of prime numbers\",c)\n",
        "print(\"sum of the prime numbers:\",sum)"
      ],
      "execution_count": null,
      "outputs": []
    },
    {
      "cell_type": "code",
      "metadata": {
        "id": "wWaY8LT0HbQK"
      },
      "source": [
        "## FIBONACCI SERIES ##\n",
        "\n",
        "n=int(input(\"enter value of n:\"))\n",
        "a=0\n",
        "b=1\n",
        "c=a+b\n",
        "st=\" \"\n",
        "count=0\n",
        "while c<n:\n",
        "  st+=\" \"=str(c)\n",
        "  a=b\n",
        "  b=c\n",
        "  c=a+b\n",
        "  count+=1\n",
        "print(st)\n",
        "print(\"count fibonacci numbers:\",count)"
      ],
      "execution_count": null,
      "outputs": []
    }
  ]
}