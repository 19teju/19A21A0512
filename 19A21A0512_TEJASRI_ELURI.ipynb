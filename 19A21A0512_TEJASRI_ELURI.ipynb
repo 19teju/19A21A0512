{
  "nbformat": 4,
  "nbformat_minor": 0,
  "metadata": {
    "colab": {
      "name": "19A21A0512 -TEJASRI.ELURI",
      "provenance": [],
      "authorship_tag": "ABX9TyMC2AlAYvwj4zRZhK3+ivCN",
      "include_colab_link": true
    },
    "kernelspec": {
      "name": "python3",
      "display_name": "Python 3"
    },
    "language_info": {
      "name": "python"
    }
  },
  "cells": [
    {
      "cell_type": "markdown",
      "metadata": {
        "id": "view-in-github",
        "colab_type": "text"
      },
      "source": [
        "<a href=\"https://colab.research.google.com/github/19teju/19A21A0512/blob/main/19A21A0512_TEJASRI_ELURI.ipynb\" target=\"_parent\"><img src=\"https://colab.research.google.com/assets/colab-badge.svg\" alt=\"Open In Colab\"/></a>"
      ]
    },
    {
      "cell_type": "markdown",
      "metadata": {
        "id": "jJTCFgsFa2bY"
      },
      "source": [
        "# PYTHON LAB EXERCISE PROGRAMS"
      ]
    },
    {
      "cell_type": "markdown",
      "metadata": {
        "id": "KyfFiuS6bkde"
      },
      "source": [
        "\n",
        "```\n",
        " NAME   :Tejasri.Eluri\n",
        " REGD NO:19A21A0512\n",
        " SECTION:CSE-A\n",
        " LAB    :Python\n",
        "```\n",
        "\n"
      ]
    },
    {
      "cell_type": "markdown",
      "metadata": {
        "id": "K8J405R9R6az"
      },
      "source": [
        "# EXERCISE-1  BASICS"
      ]
    },
    {
      "cell_type": "markdown",
      "metadata": {
        "id": "cyt4enldcfJ7"
      },
      "source": [
        "**1.sample program of python?**"
      ]
    },
    {
      "cell_type": "markdown",
      "metadata": {
        "id": "vjerZ5tXsaE7"
      },
      "source": [
        "AIM:To write a sample program of python\n",
        "\n",
        "DESCRIPTION:"
      ]
    },
    {
      "cell_type": "code",
      "metadata": {
        "id": "0i0SI9lEvPxq"
      },
      "source": [
        "##PROGRAM##\n",
        "\n",
        "a=10\n",
        "b=51\n",
        "print(a+b)\n",
        "print(a*b)\n",
        "print(\"welcome to PYTHON\")"
      ],
      "execution_count": null,
      "outputs": []
    },
    {
      "cell_type": "markdown",
      "metadata": {
        "id": "o77C-PaVRyhK"
      },
      "source": [
        "# EXERCISE-2  OPERATIONS"
      ]
    },
    {
      "cell_type": "markdown",
      "metadata": {
        "id": "A2JDzp4acxp7"
      },
      "source": [
        "**2A)Write a program to compute distance between two points taking input from the user(pythagorean theorem)** "
      ]
    },
    {
      "cell_type": "markdown",
      "metadata": {
        "id": "LuPall8yskaj"
      },
      "source": [
        "AIM:\n",
        "\n",
        "DESCRIPTION:"
      ]
    },
    {
      "cell_type": "code",
      "metadata": {
        "id": "o0JETK3RzbjU"
      },
      "source": [
        "##PROGRAM##\n",
        "\n",
        "##DISTANCE BETWEEN TWO POINTS##\n",
        "\n",
        "import math\n",
        "x1=int(input(\"enter value of x1:\"))\n",
        "x2=int(input(\"enter value of x2:\"))\n",
        "y1=int(input(\"enter value of y1:\"))\n",
        "y2=int(input(\"enter value of y2:\"))\n",
        "d=math.sqrt((x2-x1)**2)+((y2-y1)**2)\n",
        "print(\"Distance between ({},{}) and ({},{}) points is {}:\".format(x1,y1,x2,y2,d))\n"
      ],
      "execution_count": null,
      "outputs": []
    },
    {
      "cell_type": "markdown",
      "metadata": {
        "id": "ae1ohjr_wTjO"
      },
      "source": [
        "**2B)Write a program add.py that takes 2 numbers as command line argumaments and prints the sum?**"
      ]
    },
    {
      "cell_type": "markdown",
      "metadata": {
        "id": "FVJ04ybTsqUD"
      },
      "source": [
        "AIM:\n",
        "\n",
        "DESCRIPTION:"
      ]
    },
    {
      "cell_type": "code",
      "metadata": {
        "id": "jubngcd3wiLj"
      },
      "source": [
        "##PROGRAM##\n",
        "\n",
        "import sys\n",
        "a=int(input(sys.argv[1]))\n",
        "b=int(input(sys.argv[2]))\n",
        "sum=a+b\n",
        "print(\"sum of two values:\",sum)"
      ],
      "execution_count": null,
      "outputs": []
    },
    {
      "cell_type": "markdown",
      "metadata": {
        "id": "MaV1sbKcRr6Y"
      },
      "source": [
        "#  EXERCISE-3  CONTROL FLOW"
      ]
    },
    {
      "cell_type": "markdown",
      "metadata": {
        "id": "7SZHRS5NdPFd"
      },
      "source": [
        "**3A)Write a program for checking whether the given number is an even number or not?**"
      ]
    },
    {
      "cell_type": "markdown",
      "metadata": {
        "id": "EgpgGeaTsriu"
      },
      "source": [
        "AIM:\n",
        "\n",
        "DESCRIPTION:"
      ]
    },
    {
      "cell_type": "code",
      "metadata": {
        "id": "b87QQkt44liP"
      },
      "source": [
        "##PROGRAM##\n",
        "\n",
        "## check the given number is even or not##\n",
        "\n",
        "n=int(input(\"enter a number:\"))\n",
        "if n%2==0:\n",
        "  print(\"given number is EVEN NUMBER\")\n",
        "else:\n",
        "  print(\"given number is NOT EVEN NUMBER,it is ODD number\")"
      ],
      "execution_count": null,
      "outputs": []
    },
    {
      "cell_type": "markdown",
      "metadata": {
        "id": "TVTdwHb2dpSR"
      },
      "source": [
        "**3B)Using a for loop write a program to print out the decimal equivalents of 1/2,1/3,1/4,.....,1/(n-1)?**"
      ]
    },
    {
      "cell_type": "markdown",
      "metadata": {
        "id": "DW3jNfBesuGu"
      },
      "source": [
        "AIM:\n",
        "\n",
        "DESCRIPTION:"
      ]
    },
    {
      "cell_type": "code",
      "metadata": {
        "id": "ZMGKBXp86ocL"
      },
      "source": [
        "##PROGRAM##\n",
        "\n",
        "## DECIMAL EQUIVALENT ##\n",
        "\n",
        "n=int(input(\"enter a number:\"))\n",
        "for i in range(2,n):\n",
        "  de=1/i\n",
        "  print(\"1/\"+str(i)+\"=\",de)"
      ],
      "execution_count": null,
      "outputs": []
    },
    {
      "cell_type": "markdown",
      "metadata": {
        "id": "LktvYOi8eHkt"
      },
      "source": [
        "**3C)Write a program using for loop that loops over a sequence?**"
      ]
    },
    {
      "cell_type": "markdown",
      "metadata": {
        "id": "ThT4EGVCsvN3"
      },
      "source": [
        "AIM:\n",
        "\n",
        "DESCRIPTION:"
      ]
    },
    {
      "cell_type": "code",
      "metadata": {
        "id": "1RWmooy39sjt"
      },
      "source": [
        "##PROGRAM##\n",
        "\n",
        "\n",
        "## NUMBER SEQUENCE ##\n",
        "\n",
        "print(\"number sequence:\")\n",
        "num=[10,20,30,40,50]\n",
        "for i in num:\n",
        "  print(i)\n",
        "print(\"\\n\\n\")\n",
        "\n",
        "##string sequence##\n",
        "print(\"string sequence\")\n",
        "string=[\"sun\",\"mon\",\"5\",\"375\"]\n",
        "for s in string:\n",
        "  print(s)"
      ],
      "execution_count": null,
      "outputs": []
    },
    {
      "cell_type": "markdown",
      "metadata": {
        "id": "VvqTyfpoejVx"
      },
      "source": [
        "**3D)Write a program using a while loop that asks the user for a number,and prints a countdown from that number to zero?**"
      ]
    },
    {
      "cell_type": "markdown",
      "metadata": {
        "id": "7aOtY0FksxU6"
      },
      "source": [
        "AIM:\n",
        "\n",
        "DESCRIPTION:"
      ]
    },
    {
      "cell_type": "code",
      "metadata": {
        "id": "d7PR-otaBRxA"
      },
      "source": [
        "##PROGRAM##\n",
        "\n",
        "\n",
        "## COUNTDOWN FROM N TO ZERO ##\n",
        "\n",
        "n=int(input(\"enter a number:\"))\n",
        "while n>0:\n",
        "  print(n)\n",
        "  n-=1"
      ],
      "execution_count": null,
      "outputs": []
    },
    {
      "cell_type": "markdown",
      "metadata": {
        "id": "VoQB2bzWRjQI"
      },
      "source": [
        "# EXERCISE-4  CONTROL FLOW-CONTINUED"
      ]
    },
    {
      "cell_type": "markdown",
      "metadata": {
        "id": "wYSXNzY3hUMS"
      },
      "source": [
        "**4A)Find the sum of all the prims below 2 million?**"
      ]
    },
    {
      "cell_type": "markdown",
      "metadata": {
        "id": "Nk8zryvYszdc"
      },
      "source": [
        "AIM:\n",
        "\n",
        "DESCRIPTION:"
      ]
    },
    {
      "cell_type": "code",
      "metadata": {
        "id": "FcGP07nngf-Q"
      },
      "source": [
        "##PROGRAM##\n",
        "\n",
        "\n",
        "n=int(input(\"enter the ending number:\"))\n",
        "sum=0\n",
        "for i in range(2,n+1):\n",
        "    c=0\n",
        "    for j in range(2,i+1):\n",
        "        if i%j==0:\n",
        "            c+=1\n",
        "    if(c==1):\n",
        "        print(i,end=' ')    \n",
        "        sum+=i\n",
        "\n",
        "print(\"\") \n",
        "print(\"Sum of prime numbers is: \",sum)"
      ],
      "execution_count": null,
      "outputs": []
    },
    {
      "cell_type": "markdown",
      "metadata": {
        "id": "PAFiy3P3hqtj"
      },
      "source": [
        "**4B)Each new term in the fibonacci sequence is generated by adding the previous two terms by starting with 1&2,the first 10 terms will be:1,2,3,5,8,13,21,34,55,89,......**"
      ]
    },
    {
      "cell_type": "markdown",
      "metadata": {
        "id": "17ybTU-ds1oI"
      },
      "source": [
        "AIM:\n",
        "\n",
        "DESCRIPTION:"
      ]
    },
    {
      "cell_type": "code",
      "metadata": {
        "id": "wWaY8LT0HbQK"
      },
      "source": [
        "##PROGRAM##\n",
        "\n",
        "\n",
        "## FIBONACCI SERIES ##\n",
        "\n",
        "n=int(input(\"enter Limit for Fibonacci sequence:\"))\n",
        "a=0\n",
        "b=1\n",
        "c=a+b\n",
        "count=0\n",
        "while c<n:\n",
        "    print(c,end=' ')\n",
        "    a=b\n",
        "    b=c\n",
        "    c=a+b\n",
        "    count+=1\n",
        "print(\"\\n\")\n",
        "print(\"fibonacci sequence numbers count:\",count)"
      ],
      "execution_count": null,
      "outputs": []
    },
    {
      "cell_type": "markdown",
      "metadata": {
        "id": "HK8Yce56jGCx"
      },
      "source": [
        "**4C)By considering the terms in the fibonacci sequence whose values do not exceed 4 million find the sum of the even valued terms?** "
      ]
    },
    {
      "cell_type": "markdown",
      "metadata": {
        "id": "8OqRXsdQs38z"
      },
      "source": [
        "AIM:\n",
        "\n",
        "DESCRIPTION:"
      ]
    },
    {
      "cell_type": "code",
      "metadata": {
        "id": "MBqXy6RimB86"
      },
      "source": [
        "##PROGRAM##\n",
        "\n",
        "\n",
        "n=int(input(\"enter Limit for Fibonacci sequence:\"))\n",
        "a=0\n",
        "b=1\n",
        "c=a+b\n",
        "sum=0\n",
        "while c<n:\n",
        "    a=b\n",
        "    b=c\n",
        "    c=a+b\n",
        "    if c%2==0:\n",
        "        print(c,end=' ')\n",
        "        sum+=c\n",
        "print(\"\")        \n",
        "print(\"sum of even valued terms in fibonacci sequence is=\",sum)"
      ],
      "execution_count": null,
      "outputs": []
    },
    {
      "cell_type": "markdown",
      "metadata": {
        "id": "73rrtv9ZRc49"
      },
      "source": [
        "# EXERCISE-5  DATA STRUCTURES"
      ]
    },
    {
      "cell_type": "markdown",
      "metadata": {
        "id": "gKqXtTAAku7c"
      },
      "source": [
        "**5A)Write a program to count the number of characters in the string and store them in a dictionary data structure?**"
      ]
    },
    {
      "cell_type": "markdown",
      "metadata": {
        "id": "qZZPEclKs5yj"
      },
      "source": [
        "AIM:\n",
        "\n",
        "DESCRIPTION:"
      ]
    },
    {
      "cell_type": "code",
      "metadata": {
        "id": "Z-gO0nSCj0VB"
      },
      "source": [
        "##PROGRAM##\n",
        "\n",
        "\n",
        "lst=[]\n",
        "for i in range(1,6):\n",
        "   lst.append(input(\"enter the name:\"))\n",
        "print(\"list is:\",lst)\n",
        "dic={}\n",
        "for na in lst:\n",
        "   dic[na]=len(na)\n",
        "print(\"dictionary is:\",dic)"
      ],
      "execution_count": null,
      "outputs": []
    },
    {
      "cell_type": "markdown",
      "metadata": {
        "id": "T6txPbwzpqoi"
      },
      "source": [
        "**5B)Write a program to use split and join methods in the string and trace a birthday with a dictionary data structure?**"
      ]
    },
    {
      "cell_type": "markdown",
      "metadata": {
        "id": "r3wmNO-ns6zC"
      },
      "source": [
        "AIM:\n",
        "\n",
        "DESCRIPTION:"
      ]
    },
    {
      "cell_type": "code",
      "metadata": {
        "id": "JeJeUCS_p6BK"
      },
      "source": [
        " ##PROGRAM##\n",
        "\n",
        " \n",
        " dob={\"bunny\":\"27-04-2021\",\"teju\":\"28-10-2000\"}\n",
        "\n",
        "name=input(\"which person Dob you want : \")\n",
        "l=name.split()\n",
        "for i in l:\n",
        "  if i in dob.keys():\n",
        "    print(\" \".join([i,\"birthday is \",dob[i]]))"
      ],
      "execution_count": null,
      "outputs": []
    },
    {
      "cell_type": "markdown",
      "metadata": {
        "id": "BfwZygc2RWB8"
      },
      "source": [
        "# EXERCISE-6  DS-CONTINUED"
      ]
    },
    {
      "cell_type": "markdown",
      "metadata": {
        "id": "E7PfsrLqtJXQ"
      },
      "source": [
        "**6A)Write a program combine lists that combines these lists into a dictionary?**"
      ]
    },
    {
      "cell_type": "markdown",
      "metadata": {
        "id": "8iFXf8JYs9Oq"
      },
      "source": [
        "AIM:\n",
        "\n",
        "DESCRIPTION:"
      ]
    },
    {
      "cell_type": "code",
      "metadata": {
        "id": "v86Jkc0NuIG2"
      },
      "source": [
        "##PROGRAM##\n",
        "\n",
        "\n",
        "sub=[\"DAA\",\"OS\",\"SE\",\"P&S\",\"DBMS\",\"PPL\"]\n",
        "marks=[90,91,90,95,89,91]\n",
        "print(sub)\n",
        "print(marks)\n",
        "dic=dict(zip(sub,marks))\n",
        "print(dic)\n"
      ],
      "execution_count": null,
      "outputs": []
    },
    {
      "cell_type": "markdown",
      "metadata": {
        "id": "Qm2FJHk0vF4z"
      },
      "source": [
        "**6B)Write a program to count frequency of characters in a given file can you use character frequency to fall whether the given file is a python program file,c program file or a text file?** "
      ]
    },
    {
      "cell_type": "markdown",
      "metadata": {
        "id": "xX5K0hdEtLeP"
      },
      "source": [
        "AIM:\n",
        "\n",
        "DESCRIPTION:"
      ]
    },
    {
      "cell_type": "code",
      "metadata": {
        "id": "hHswlYKcweTn"
      },
      "source": [
        "##PROGRAM##\n",
        "\n",
        "\n",
        "filetypes=['.py','.c','.txt']\n",
        "fn=input(\"enter the file name:\")\n",
        "f=open(fn,\"r\")\n",
        "count=dict()\n",
        "for ft in filetypes:\n",
        "  if (ft in fn):\n",
        "    if(ft=='.py'):\n",
        "      print(\"python file\")\n",
        "    elif(ft=='.c'):\n",
        "      print(\"c file\")\n",
        "    elif(ft=='.txt'):\n",
        "      print(\"text file\")\n",
        "for line in f:\n",
        "  for ch in line:\n",
        "    if ch in count:\n",
        "      count[ch]=count[ch]+1\n",
        "    else:\n",
        "      count[ch]=1\n",
        "print(count)\n",
        "f.close()"
      ],
      "execution_count": null,
      "outputs": []
    },
    {
      "cell_type": "markdown",
      "metadata": {
        "id": "w5ctutUhRPny"
      },
      "source": [
        "# EXERCISE-7  FILES"
      ]
    },
    {
      "cell_type": "markdown",
      "metadata": {
        "id": "Fo6XUgl8UxUV"
      },
      "source": [
        "**7A)Write a program to print the line of a file in reverse order?**"
      ]
    },
    {
      "cell_type": "markdown",
      "metadata": {
        "id": "1JxSz0nFtWAx"
      },
      "source": [
        "AIM:\n",
        "\n",
        "DESCRIPTION:"
      ]
    },
    {
      "cell_type": "code",
      "metadata": {
        "id": "RoNh4TadVS6U"
      },
      "source": [
        "##PROGRAM##\n",
        "\n",
        "\n",
        "obj=open(\"abc.txt\",\"r\")\n",
        "if obj:\n",
        "  st=obj.read()\n",
        "  print(\"file content is:\\n\",st)\n",
        "obj.close()\n",
        "print()\n",
        "lines=st.split(\"\\n\")\n",
        "for ln in lines:\n",
        "  i=lcn(ln)-1\n",
        "  while(i>=0):\n",
        "    print(ln[i],end=\"\")\n",
        "    i=i-1\n",
        "  print()"
      ],
      "execution_count": null,
      "outputs": []
    },
    {
      "cell_type": "markdown",
      "metadata": {
        "id": "Wu-CDj1BVVOy"
      },
      "source": [
        "**7B)Write a program to compute the number of characters,words and lines in a file?**\n"
      ]
    },
    {
      "cell_type": "markdown",
      "metadata": {
        "id": "PyDwlyaRtYGV"
      },
      "source": [
        "AIM:\n",
        "\n",
        "DESCRIPTION:"
      ]
    },
    {
      "cell_type": "code",
      "metadata": {
        "id": "2dbTG5vaXFmJ"
      },
      "source": [
        "##PROGRAM##\n",
        "\n",
        "\n",
        "nc=nw=nl=0\n",
        "file=open(\"abc.txt\",\"r\")\n",
        "nl=nw=nc=0\n",
        "print(\"file content:\\n\")\n",
        "for line in file:\n",
        "  ln=line.strip(\"\\n\")\n",
        "  print(ln)\n",
        "  words=ln.split()\n",
        "  nl+=l\n",
        "  nw+=len(words)\n",
        "  nc+=len(line)\n",
        "  file.close()\n",
        "  print(\"\\n no of lines:\",nl,\"words:\",nw,\"characters\",nc,)"
      ],
      "execution_count": null,
      "outputs": []
    },
    {
      "cell_type": "markdown",
      "metadata": {
        "id": "MwH5IMSjRHP9"
      },
      "source": [
        "# EXERCISE-8  FUNCTIONS"
      ]
    },
    {
      "cell_type": "markdown",
      "metadata": {
        "id": "baR_afO-Ydy0"
      },
      "source": [
        "**8A)Write a function ball collide that takes two balls as parameters &compute if they are colliding.your function should return a boolean representing whether or not the balls are colliding?**"
      ]
    },
    {
      "cell_type": "markdown",
      "metadata": {
        "id": "KwByFEgptab4"
      },
      "source": [
        "AIM:\n",
        "\n",
        "DESCRIPTION:"
      ]
    },
    {
      "cell_type": "code",
      "metadata": {
        "id": "fcfotPSYYemw"
      },
      "source": [
        "##PROGRAM##\n",
        "\n",
        "\n",
        "import math\n",
        "def collide(ball1,ball2):\n",
        "   x1,y1,r1=ball1\n",
        "   x2,y2,r2=ball2\n",
        "   print(\"Ball-1: \",ball1)\n",
        "   print(\"Ball-2: \",ball2)\n",
        "   d=math.sqrt((x2-x1)*2+(y2-y1)*2)\n",
        "   print(\"Centroid Distance of two balls: \",d)\n",
        "   print(\"sum of radius ball-1 and ball-2 is {}+{}={}\".format(r1,r2,r1+r2))\n",
        "   if(d<=r1+r2):\n",
        "     return True\n",
        "   else:\n",
        "     return False\n",
        "b1=(-2,-4,3)\n",
        "b2=(4,6,3)\n",
        "if collide(b1,b2):\n",
        "  print(\"BAllS are Colliode...!\")\n",
        "else:\n",
        "  print(\"BAllS are not Collide...!\")"
      ],
      "execution_count": null,
      "outputs": []
    },
    {
      "cell_type": "markdown",
      "metadata": {
        "id": "ahj4Lmw3dM49"
      },
      "source": [
        "**8B)Find the mean,median and mode for a given set of numbers in a list?**"
      ]
    },
    {
      "cell_type": "markdown",
      "metadata": {
        "id": "OwclNQPotcVW"
      },
      "source": [
        "AIM:To find the mean,median and mode for a given set of numbers in a list\n",
        "\n",
        "DESCRIPTION:"
      ]
    },
    {
      "cell_type": "code",
      "metadata": {
        "id": "CR0jGQfQdNsQ"
      },
      "source": [
        "##PROGRAM##\n",
        "\n",
        "\n",
        "def list_mean(num_list):\n",
        "  return sum(num_list)/len(num_list)\n",
        "def list_median(num_list):\n",
        "  num_list.sort()\n",
        "  n=len(num_list)\n",
        "  mid=n/2\n",
        "  if (n%2==1):\n",
        "    return num_list[mid]\n",
        "  else:\n",
        "    return (num_list[mid-1]+num_list[mid])/2\n",
        "def list_mode(num_list):\n",
        "  num_list.sort()\n",
        "  temp=[]\n",
        "  i=0\n",
        "  while i<len(num_list):\n",
        "    temp.append(num_list.count(num_list[i]))\n",
        "    i+=1\n",
        "    dic=dict(zip(num_list,temp))\n",
        "    mode={k for (k,v) in dic.items() if v==max(temp)}\n",
        "    return mode\n",
        "  lst=[4,5,8,1,3,5,4,8,2,1,0,6,2]\n",
        "  print(\"given list is:\",list)\n",
        "  print(\"mean of the given list:\",list_mean(lst))\n",
        "  print(\"median of the given list:\",list_median(lst))\n",
        "  print(\"mode of the given list:\",list_mode(lst))"
      ],
      "execution_count": null,
      "outputs": []
    },
    {
      "cell_type": "markdown",
      "metadata": {
        "id": "mHlZrEIEQ-WX"
      },
      "source": [
        "# EXERCISE-9  FUNCTIONS CONTINUED"
      ]
    },
    {
      "cell_type": "markdown",
      "metadata": {
        "id": "WL3ngoI3n7zu"
      },
      "source": [
        "**9A)Write a function nearly equal to test whether two strings are nearly equal.2 strings a and b are nearly equal when a can be generated by a single mutation on b?**\n"
      ]
    },
    {
      "cell_type": "markdown",
      "metadata": {
        "id": "eoqn7u8WqHWV"
      },
      "source": [
        "AIM: To Write a function nearly equal to test whether two strings are nearly equal.2 strings a and b are nearly equal when a can be generated by a single mutation on \n",
        "\n",
        "DESCRIPTION:A function in python is a group of code.to run the code we have to call the function after defining the function."
      ]
    },
    {
      "cell_type": "code",
      "metadata": {
        "id": "v7RVMIdsoXh2"
      },
      "source": [
        "##PROGRAM##\n",
        "\n",
        "def equal(str1,str2):\n",
        "  count=0\n",
        "  i=j=0\n",
        "  while (i<len(str1)and j<len(str2)):\n",
        "    if (str[i]!=str2[j]):\n",
        "      count+=1\n",
        "      if (len(str1)>len(str2)):\n",
        "        i+=1\n",
        "      elif (len(str1)==len(str2)):\n",
        "        pass\n",
        "      else:\n",
        "        i-=1\n",
        "      if (count>1):\n",
        "        return False\n",
        "      i+=1\n",
        "      j+=1\n",
        "      if (count<2):\n",
        "        return True\n",
        "      s1=input(\"enter string1\")\n",
        "      s2=input(\"enter string2\")\n",
        "      bln=equal(s1,s2)\n",
        "      if (bln):\n",
        "        print(\"strings are equal\")\n",
        "      else:\n",
        "        print(\"strings are not equal\")"
      ],
      "execution_count": null,
      "outputs": []
    },
    {
      "cell_type": "markdown",
      "metadata": {
        "id": "gIaY_bCgoYby"
      },
      "source": [
        "**9B)Write a function dup to find all the duplicates in the list?**"
      ]
    },
    {
      "cell_type": "markdown",
      "metadata": {
        "id": "owdwdXbzqrMJ"
      },
      "source": [
        "AIM:To Write a function dup to find all the duplicates in the list\n",
        "\n",
        "DESCRIPTION:A function in python is a group of code.to run the code we have to call the function after defining the function.here the function name is dup."
      ]
    },
    {
      "cell_type": "code",
      "metadata": {
        "id": "1P0SKdtWoZKA"
      },
      "source": [
        "##PROGRAM##\n",
        "\n",
        "def dup(numlist):\n",
        "  temp=[]\n",
        "  for i in numlist:\n",
        "    cnt=numlist.count(i)\n",
        "    if (cnt>1 and (i not in temp)):\n",
        "      temp.append(i)\n",
        "    print(\"duplicates in the list:\",lst)\n",
        "lst=[1,5,1,2,4,5,4,6]\n",
        "print(\"given elements in the list:\",lst)\n",
        "dup(list)"
      ],
      "execution_count": null,
      "outputs": []
    },
    {
      "cell_type": "markdown",
      "metadata": {
        "id": "vnfZFPjTrnRq"
      },
      "source": [
        "**9C)Write a function unique to find all the unique elements of a list?**"
      ]
    },
    {
      "cell_type": "markdown",
      "metadata": {
        "id": "YFGw9EnerIwK"
      },
      "source": [
        "AIM:to Write a function unique to find all the unique elements of a list\n",
        "\n",
        "DESCRIPTION:A function in python is a group of code.to run the code we have to call the function after defining the function.here the function name is unique"
      ]
    },
    {
      "cell_type": "code",
      "metadata": {
        "id": "QvS61brfr0q0"
      },
      "source": [
        "##PROGRAM##\n",
        "\n",
        "def unique(numlist):\n",
        "  temp=[]\n",
        "  for i in numlist:\n",
        "    cnt=numlist.count(i)\n",
        "    if cnt==1:\n",
        "      temp.append(i)\n",
        "    print(\"unique elements in the list:\",temp)\n",
        "lst=[1,2,6,9,1,3,5,2,1]\n",
        "print(\"given elements in the list:\",lst)\n",
        "unique(lst)"
      ],
      "execution_count": null,
      "outputs": []
    },
    {
      "cell_type": "markdown",
      "metadata": {
        "id": "zIo-ejskQyii"
      },
      "source": [
        "# EXERCISE-10 FUNCTIONS-PROBLEM SOLVING"
      ]
    },
    {
      "cell_type": "markdown",
      "metadata": {
        "id": "P3XgzsnIsryO"
      },
      "source": [
        "**10A)Write a function cumulative product to compute product of a list of numbers?**\n"
      ]
    },
    {
      "cell_type": "markdown",
      "metadata": {
        "id": "n7b9czQdon-6"
      },
      "source": [
        "AIM:To Write a function cumulative product to compute product of a list of numbers\n",
        "\n",
        "DESCRIPTION:cumulative product is the sequence of partial products of a given sequence."
      ]
    },
    {
      "cell_type": "code",
      "metadata": {
        "id": "cWbr1KFys3s2"
      },
      "source": [
        "##PROGRAM##\n",
        "\n",
        "def cum_prod(numlist):\n",
        "  prod=1\n",
        "  temp=[]\n",
        "  for i in numlist:\n",
        "    prod*=i\n",
        "    temp.append(prod)\n",
        "  return temp\n",
        "lst=[1,5,4,7,8]\n",
        "print(\"given list is:\",lst)\n",
        "print(\"cumulative product is:\",cum_prod(lst)) "
      ],
      "execution_count": null,
      "outputs": []
    },
    {
      "cell_type": "markdown",
      "metadata": {
        "id": "980ozqR0tdex"
      },
      "source": [
        "**10B)Write a function reverse to reverse a list without using reverse function?**"
      ]
    },
    {
      "cell_type": "markdown",
      "metadata": {
        "id": "hhw6aYjRpDWn"
      },
      "source": [
        "AIM:to Write a function reverse to reverse a list without using reverse function\n",
        "\n",
        "DESCRIPTION:the reverse function accepts the character expression as its argument and returns a string of the same length."
      ]
    },
    {
      "cell_type": "code",
      "metadata": {
        "id": "3VNMBPjAtodV"
      },
      "source": [
        "##PROGRAM##\n",
        "\n",
        "def reverse_lst(numlist):\n",
        "  i=0\n",
        "  j=len(numlist)-1\n",
        "  while i<=j:\n",
        "    temp=numlist[i]\n",
        "    numlist[i]=numlist[j]\n",
        "    numlist[j]=temp\n",
        "    j-=1\n",
        "    i+=1\n",
        "  return numlist\n",
        "lst=[1,2,3,4]\n",
        "print(\"given list is:\",lst)\n",
        "reverse_lst(lst)\n",
        "print(\"reverse of the given list is:\",lst)"
      ],
      "execution_count": null,
      "outputs": []
    },
    {
      "cell_type": "markdown",
      "metadata": {
        "id": "MZ637x3ZueO_"
      },
      "source": [
        "**10C)Write a function to compute gcd,lcm of 2 numbers each function shouldnot exceed one line?**\n"
      ]
    },
    {
      "cell_type": "markdown",
      "metadata": {
        "id": "gVoz0XO0phiU"
      },
      "source": [
        "AIM:to Write a function to compute gcd,lcm of 2 numbers each function shouldnot exceed one line\n",
        "\n",
        "DESCRIPTION:GCD is the greatest common divisor of two integers .it is the greatest positive integer that divides the 2 integers.\n",
        "\n",
        "LCM is the least common multiple .it is the smalest number that is divisible by 2 integers"
      ]
    },
    {
      "cell_type": "code",
      "metadata": {
        "id": "o5cg_2kAurl7"
      },
      "source": [
        "##PROGRAM##\n",
        "\n",
        "gcd=lambda a,b:a if b==0 else gcd(a,a%b)\n",
        "lcm=lambda a,b:(a*b)/gcd(a,b)\n",
        "x=4\n",
        "y=24\n",
        "print(\"the given numbers are:\",x,y)\n",
        "print(\"gcd is:\",gcd(x,y))\n",
        "print(\"lcm is:\",lcm(x,y))\n"
      ],
      "execution_count": null,
      "outputs": []
    },
    {
      "cell_type": "markdown",
      "metadata": {
        "id": "Y8nTf9EhQnlu"
      },
      "source": [
        "# EXERCISE-11 MULTIDIMENTIONAL LISTS"
      ]
    },
    {
      "cell_type": "markdown",
      "metadata": {
        "id": "59YQKE00DGgr"
      },
      "source": [
        "**11A)write a program that defines a matrix and print?**\n"
      ]
    },
    {
      "cell_type": "markdown",
      "metadata": {
        "id": "S2x66F3vl4fR"
      },
      "source": [
        ""
      ]
    },
    {
      "cell_type": "markdown",
      "metadata": {
        "id": "-g4DuG32l4bu"
      },
      "source": [
        "AIM:to write a program that defines a matrix and print\n",
        "\n",
        "DESCRIPTION:matrix is a set of numbers arranged in rows and columns.it is represented within []. "
      ]
    },
    {
      "cell_type": "code",
      "metadata": {
        "id": "oH4YNVbeDIr3"
      },
      "source": [
        "##PROGRAM##\n",
        "\n",
        "matA=[[]]\n",
        "rows=int(input(\"Enter row size of matrix: \"))\n",
        "cols=int(input(\"Enter column size of matrix: \"))\n",
        "matA=[[int(input(\"Enter[%d,%d] value: \"%(i,j)))for j in range(cols)]for i in range(rows)]\n",
        "print(\"OBTAINED MATRIX IS: \")\n",
        "for i in range(rows):\n",
        "  for j in range(cols):\n",
        "    print(matA[i][j],end='\\t')\n",
        "  print()"
      ],
      "execution_count": null,
      "outputs": []
    },
    {
      "cell_type": "markdown",
      "metadata": {
        "id": "-n7Upmc2GyCC"
      },
      "source": [
        "**11B)Write a program to perform addition of two square matrices?**"
      ]
    },
    {
      "cell_type": "markdown",
      "metadata": {
        "id": "aw6rEFGmmrun"
      },
      "source": [
        "AIM:to Write a program to perform addition of two square matrices\n",
        "\n",
        "DESCRIPTION:Addition of matrix is possible when number of rows are equal to number of columns."
      ]
    },
    {
      "cell_type": "code",
      "metadata": {
        "id": "SGF1sL76HAI2"
      },
      "source": [
        "##PROGRAM##\n",
        "\n",
        "def matRead(r,c):\n",
        "  return[[int(input(\"[%d,%d]value:\"%(i,j)))for j in range(c)]for i in range(r)]\n",
        "def matDisp(mat,r,c):\n",
        "  for i in range(r):\n",
        "    for j in range(c):\n",
        "      print(mat[i][j],end='\\t')\n",
        "    print()\n",
        "matA=[[]]\n",
        "matB=[[]]       \n",
        "matSum=[[]]\n",
        "rows=int(input(\"Enter row size of the matrix: \"))\n",
        "cols=int(input(\"Enter column size of the matrix: \"))\n",
        "if rows==cols:\n",
        "  print(\"Enter Matrix-A elements: \")\n",
        "  matA=matRead(rows,cols)\n",
        " \n",
        "  print(\"Enter Matrix-B elements: \")\n",
        "  matB=matRead(rows,cols)\n",
        " \n",
        "  print(\"Matrix-A is: \")\n",
        "  matDisp(matA,rows,cols)\n",
        " \n",
        "  print(\"Matrix-B is: \")\n",
        "  matDisp(matB,rows,cols)\n",
        "  matSum=[[matA[i][j]+matB[i][j]for j in range(cols)]for i in range(rows)]\n",
        "  print(\"sum of matrices is: \")\n",
        "  matDisp(matSum,rows,cols)\n",
        "else:\n",
        "  print(\"Matrices addition is not possible\")\n"
      ],
      "execution_count": null,
      "outputs": []
    },
    {
      "cell_type": "markdown",
      "metadata": {
        "id": "ghn9yHh5HpyY"
      },
      "source": [
        "**11C)Write a program to perform multiplication of two square matrices?**"
      ]
    },
    {
      "cell_type": "markdown",
      "metadata": {
        "id": "kiBh707jnBfH"
      },
      "source": [
        "AIM:to Write a program to perform multiplication of two square matrices\n",
        "\n",
        "DESCRIPTION:matrix multiplication is possible when the number of columns in the first matrix is equal to the number of rows in the second matrix."
      ]
    },
    {
      "cell_type": "code",
      "metadata": {
        "id": "7n8yCETAH3LN"
      },
      "source": [
        "##PROGRAM##\n",
        "\n",
        "def  matRead(r,c):  \n",
        "  return[[int(input(\"[%d,%d]value: \"%(i,j)))for j in range(c)]for i in range(r)]\n",
        "def matDisp(mat,r,c):\n",
        "  for i in range(r):\n",
        "    for j in range(c):\n",
        "      print(mat[i][j],end=' ')\n",
        "matA=[[]]\n",
        "matB=[[]]\n",
        "matMul=[[]]\n",
        "rows=int(input(\"Enter row size of the Matrix: \"))\n",
        "cols=int(input(\"Enter column size of the Matrix: \"))\n",
        " \n",
        "if rows==cols:\n",
        "  print(\"Enter Matrix-A:\")\n",
        "  matA=matRead(rows,cols)\n",
        "  print(\"Enter Matrix-B:\")\n",
        "  matB=matRead(rows,cols)\n",
        " \n",
        "  matMul=[[0 for j in range(cols)]for i in range(rows)]\n",
        "  for i in range(rows):\n",
        "    for j in range(cols):\n",
        "      for k in range(cols):\n",
        "        matMul[i][j]+=matA[i][k]*matB[k][j]\n",
        "  print(\"Matrix-A is:\")\n",
        "  matDisp(matA,rows,cols)\n",
        " \n",
        "  print(\"\\nMatrix-B is:\")\n",
        "  matDisp(matB,rows,cols)\n",
        " \n",
        "  print(\"\\nMultiplication of matrices is:\")\n",
        "  matDisp(matMul,rows,cols)\n",
        "else:\n",
        "  print(\"\\nMatrices Multiplication is not possible\")\n"
      ],
      "execution_count": null,
      "outputs": []
    },
    {
      "cell_type": "markdown",
      "metadata": {
        "id": "9yjkIFe3QVjl"
      },
      "source": [
        "# EXERCISE-12 MODULES"
      ]
    },
    {
      "cell_type": "markdown",
      "metadata": {
        "id": "Aa5PX2kCNrG-"
      },
      "source": [
        "**12B)Write a script that imports requests and fetch content from the page?** "
      ]
    },
    {
      "cell_type": "markdown",
      "metadata": {
        "id": "j0C-XTrph5ej"
      },
      "source": [
        "AIM:To Write a script that imports requests and fetch content from the page.\n",
        "\n",
        "\n",
        "DESCRITION:script is the total format that how a process is going on in the system."
      ]
    },
    {
      "cell_type": "markdown",
      "metadata": {
        "id": "Z_Nx8srmhzqQ"
      },
      "source": [
        ""
      ]
    },
    {
      "cell_type": "code",
      "metadata": {
        "id": "w7QDGnnwOSwL",
        "outputId": "5ec7c780-67f3-4d6f-fdc3-5cc5e88ee4ac",
        "colab": {
          "base_uri": "https://localhost:8080/"
        }
      },
      "source": [
        "##PROGRAM##\n",
        "\n",
        "import requests\n",
        "r=requests.get('https://www.google.com')\n",
        "print(\"status code:\",r.status_code)\n",
        "print(\"header content:\",r.headers['content-type'])\n",
        "print(r.text)"
      ],
      "execution_count": 8,
      "outputs": [
        {
          "output_type": "stream",
          "name": "stdout",
          "text": [
            "status code: 200\n",
            "header content: text/html; charset=ISO-8859-1\n",
            "<!doctype html><html itemscope=\"\" itemtype=\"http://schema.org/WebPage\" lang=\"en\"><head><meta content=\"Search the world's information, including webpages, images, videos and more. Google has many special features to help you find exactly what you're looking for.\" name=\"description\"><meta content=\"noodp\" name=\"robots\"><meta content=\"text/html; charset=UTF-8\" http-equiv=\"Content-Type\"><meta content=\"/logos/doodles/2021/doodle-champion-island-games-september-05-6753651837109292-l.png\" itemprop=\"image\"><meta content=\"Doodle Champion Island Games!\" property=\"twitter:title\"><meta content=\"Feline up for a challenge? Help Lucky claim victory in the Doodle Champion Island Games! #GoogleDoodle \" property=\"twitter:description\"><meta content=\"Feline up for a challenge? Help Lucky claim victory in the Doodle Champion Island Games! #GoogleDoodle \" property=\"og:description\"><meta content=\"summary_large_image\" property=\"twitter:card\"><meta content=\"@GoogleDoodles\" property=\"twitter:site\"><meta content=\"https://www.google.com/logos/doodles/2021/doodle-champion-island-games-september-05-6753651837109292-2xa.gif\" property=\"twitter:image\"><meta content=\"https://www.google.com/logos/doodles/2021/doodle-champion-island-games-september-05-6753651837109292-2xa.gif\" property=\"og:image\"><meta content=\"668\" property=\"og:image:width\"><meta content=\"392\" property=\"og:image:height\"><meta content=\"https://www.google.com/logos/doodles/2021/doodle-champion-island-games-september-05-6753651837109292-2xa.gif\" property=\"og:url\"><meta content=\"video.other\" property=\"og:type\"><title>Google</title><script nonce=\"uPCvxqs+eaZ16Kisx3TAmQ==\">(function(){window.google={kEI:'dJ00Yf2RDq6S0PEPm8CxOA',kEXPI:'0,772215,1,530320,56873,954,755,4350,206,4804,926,1390,383,246,5,1354,4936,314,1122516,1197721,562,118,328866,51223,16115,28684,17572,4859,1361,9291,3023,17585,4020,978,13228,3847,4192,6430,1142,6290,11615,2775,920,5080,1593,1279,2212,531,148,1103,840,1983,4,209,4101,109,3405,606,2023,1777,520,14670,3227,2845,7,5599,6755,5096,14396,1924,908,2,941,2614,3784,8926,432,3,1590,1,5445,148,10045,1278,2652,4,1253,275,2304,1236,5226,577,74,1983,2627,2014,11501,2110,1714,3050,2658,4242,3113,32,13628,2305,638,37,1457,5586,3772,5993,1435,651,5152,2554,4094,20,3118,6,908,3,3541,1,5349,9361,1,1813,283,38,874,5992,14678,769,8,1,1272,1344,371,2,3057,6155,11,634,4,14,4,5387,4,683,442,342,255,55,4,434,2377,123,1557,128,615,2350,3503,1576,3,472,8412,1160,1269,5139,291,2381,2718,3709,2,835,3,125,16,3905,1427,360,4275,1213,2409,1,8,173,2,2745,498,4318,1932,190,2446,1596,981,78,2709,888,4577,797,1264,85,1,811,1661,49,590,668,3,792,1602,1461,1167,510,1536,205,331,200,93,231,198,35,675,1,510,393,390,673,419,434,2,23,250,102,485,585,253,967,138,276,849,1251,472,111,256,38,33,5,1198,363,31,84,1249,2,194,654,2,2272,7,5578342,3905,226,220,73,208,2,5995414,1171,2800697,882,444,1,2,80,1,1796,1,9,2553,1,748,141,795,563,1,4265,1,1,2,1331,4142,2609,155,17,13,72,139,4,2,20,2,169,13,19,46,5,39,96,548,29,2,2,1,2,1,2,2,7,4,1,2,2,2,2,2,2,353,513,186,1,1,158,3,2,2,2,2,2,4,2,3,3,269,291,53,66,39,37,15,4,21,23654331,299866,2862026,1179325,338,3,2862,2,463,172,406,9,4775,993',kBL:'Wtym'};google.sn='webhp';google.kHL='en';})();(function(){\n",
            "var f=this||self;var h,k=[];function l(a){for(var b;a&&(!a.getAttribute||!(b=a.getAttribute(\"eid\")));)a=a.parentNode;return b||h}function m(a){for(var b=null;a&&(!a.getAttribute||!(b=a.getAttribute(\"leid\")));)a=a.parentNode;return b}\n",
            "function n(a,b,c,d,g){var e=\"\";c||-1!==b.search(\"&ei=\")||(e=\"&ei=\"+l(d),-1===b.search(\"&lei=\")&&(d=m(d))&&(e+=\"&lei=\"+d));d=\"\";!c&&f._cshid&&-1===b.search(\"&cshid=\")&&\"slh\"!==a&&(d=\"&cshid=\"+f._cshid);c=c||\"/\"+(g||\"gen_204\")+\"?atyp=i&ct=\"+a+\"&cad=\"+b+e+\"&zx=\"+Date.now()+d;/^http:/i.test(c)&&\"https:\"===window.location.protocol&&(google.ml&&google.ml(Error(\"a\"),!1,{src:c,glmm:1}),c=\"\");return c};h=google.kEI;google.getEI=l;google.getLEI=m;google.ml=function(){return null};google.log=function(a,b,c,d,g){if(c=n(a,b,c,d,g)){a=new Image;var e=k.length;k[e]=a;a.onerror=a.onload=a.onabort=function(){delete k[e]};a.src=c}};google.logUrl=n;}).call(this);(function(){\n",
            "google.y={};google.sy=[];google.x=function(a,b){if(a)var c=a.id;else{do c=Math.random();while(google.y[c])}google.y[c]=[a,b];return!1};google.sx=function(a){google.sy.push(a)};google.lm=[];google.plm=function(a){google.lm.push.apply(google.lm,a)};google.lq=[];google.load=function(a,b,c){google.lq.push([[a],b,c])};google.loadAll=function(a,b){google.lq.push([a,b])};google.bx=!1;google.lx=function(){};}).call(this);google.f={};(function(){\n",
            "document.documentElement.addEventListener(\"submit\",function(b){var a;if(a=b.target){var c=a.getAttribute(\"data-submitfalse\");a=\"1\"==c||\"q\"==c&&!a.elements.q.value?!0:!1}else a=!1;a&&(b.preventDefault(),b.stopPropagation())},!0);document.documentElement.addEventListener(\"click\",function(b){var a;a:{for(a=b.target;a&&a!=document.documentElement;a=a.parentElement)if(\"A\"==a.tagName){a=\"1\"==a.getAttribute(\"data-nohref\");break a}a=!1}a&&b.preventDefault()},!0);}).call(this);</script><style>#gbar,#guser{font-size:13px;padding-top:1px !important;}#gbar{height:22px}#guser{padding-bottom:7px !important;text-align:right}.gbh,.gbd{border-top:1px solid #c9d7f1;font-size:1px}.gbh{height:0;position:absolute;top:24px;width:100%}@media all{.gb1{height:22px;margin-right:.5em;vertical-align:top}#gbar{float:left}}a.gb1,a.gb4{text-decoration:underline !important}a.gb1,a.gb4{color:#00c !important}.gbi .gb4{color:#dd8e27 !important}.gbf .gb4{color:#900 !important}\n",
            "</style><style>body,td,a,p,.h{font-family:arial,sans-serif}body{margin:0;overflow-y:scroll}#gog{padding:3px 8px 0}td{line-height:.8em}.gac_m td{line-height:17px}form{margin-bottom:20px}.h{color:#1558d6}em{font-weight:bold;font-style:normal}.lst{height:25px;width:496px}.gsfi,.lst{font:18px arial,sans-serif}.gsfs{font:17px arial,sans-serif}.ds{display:inline-box;display:inline-block;margin:3px 0 4px;margin-left:4px}input{font-family:inherit}body{background:#fff;color:#000}a{color:#4b11a8;text-decoration:none}a:hover,a:active{text-decoration:underline}.fl a{color:#1558d6}a:visited{color:#4b11a8}.sblc{padding-top:5px}.sblc a{display:block;margin:2px 0;margin-left:13px;font-size:11px}.lsbb{background:#f8f9fa;border:solid 1px;border-color:#dadce0 #70757a #70757a #dadce0;height:30px}.lsbb{display:block}#WqQANb a{display:inline-block;margin:0 12px}.lsb{background:url(/images/nav_logo229.png) 0 -261px repeat-x;border:none;color:#000;cursor:pointer;height:30px;margin:0;outline:0;font:15px arial,sans-serif;vertical-align:top}.lsb:active{background:#dadce0}.lst:focus{outline:none}</style><script nonce=\"uPCvxqs+eaZ16Kisx3TAmQ==\"></script></head><body bgcolor=\"#fff\"><script nonce=\"uPCvxqs+eaZ16Kisx3TAmQ==\">(function(){var src='/images/nav_logo229.png';var iesg=false;document.body.onload = function(){window.n && window.n();if (document.images){new Image().src=src;}\n",
            "if (!iesg){document.f&&document.f.q.focus();document.gbqf&&document.gbqf.q.focus();}\n",
            "}\n",
            "})();</script><div id=\"mngb\"><div id=gbar><nobr><b class=gb1>Search</b> <a class=gb1 href=\"https://www.google.com/imghp?hl=en&tab=wi\">Images</a> <a class=gb1 href=\"https://maps.google.com/maps?hl=en&tab=wl\">Maps</a> <a class=gb1 href=\"https://play.google.com/?hl=en&tab=w8\">Play</a> <a class=gb1 href=\"https://www.youtube.com/?gl=US&tab=w1\">YouTube</a> <a class=gb1 href=\"https://news.google.com/?tab=wn\">News</a> <a class=gb1 href=\"https://mail.google.com/mail/?tab=wm\">Gmail</a> <a class=gb1 href=\"https://drive.google.com/?tab=wo\">Drive</a> <a class=gb1 style=\"text-decoration:none\" href=\"https://www.google.com/intl/en/about/products?tab=wh\"><u>More</u> &raquo;</a></nobr></div><div id=guser width=100%><nobr><span id=gbn class=gbi></span><span id=gbf class=gbf></span><span id=gbe></span><a href=\"http://www.google.com/history/optout?hl=en\" class=gb4>Web History</a> | <a  href=\"/preferences?hl=en\" class=gb4>Settings</a> | <a target=_top id=gb_70 href=\"https://accounts.google.com/ServiceLogin?hl=en&passive=true&continue=https://www.google.com/&ec=GAZAAQ\" class=gb4>Sign in</a></nobr></div><div class=gbh style=left:0></div><div class=gbh style=right:0></div></div><center><br clear=\"all\" id=\"lgpd\"><div id=\"lga\"><a href=\"/search?ie=UTF-8&amp;q=Paralympics&amp;oi=ddle&amp;ct=192414335&amp;hl=en&amp;si=AHuW2sT-QI6yLdyEfUBJHlK3UbYl5IMFaEVy5cpr0uPqDA9_otVXb9ripiHnz-EX5hXZ_jIa8ESKopokBeQtHfj9KzxO6Dw9kGEpQWJxyyGVK2B-ksVRRB0%3D&amp;sa=X&amp;ved=0ahUKEwj9m7u80efyAhUuCTQIHRtgDAcQPQgD\"><img alt=\"Doodle Champion Island Games!\" border=\"0\" height=\"196\" src=\"/logos/doodles/2021/doodle-champion-island-games-september-05-6753651837109292-l.png\" title=\"Doodle Champion Island Games!\" width=\"334\" id=\"hplogo\"><br></a><br></div><form action=\"/search\" name=\"f\"><table cellpadding=\"0\" cellspacing=\"0\"><tr valign=\"top\"><td width=\"25%\">&nbsp;</td><td align=\"center\" nowrap=\"\"><input name=\"ie\" value=\"ISO-8859-1\" type=\"hidden\"><input value=\"en\" name=\"hl\" type=\"hidden\"><input name=\"source\" type=\"hidden\" value=\"hp\"><input name=\"biw\" type=\"hidden\"><input name=\"bih\" type=\"hidden\"><div class=\"ds\" style=\"height:32px;margin:4px 0\"><input class=\"lst\" style=\"margin:0;padding:5px 8px 0 6px;vertical-align:top;color:#000\" autocomplete=\"off\" value=\"\" title=\"Google Search\" maxlength=\"2048\" name=\"q\" size=\"57\"></div><br style=\"line-height:0\"><span class=\"ds\"><span class=\"lsbb\"><input class=\"lsb\" value=\"Google Search\" name=\"btnG\" type=\"submit\"></span></span><span class=\"ds\"><span class=\"lsbb\"><input class=\"lsb\" id=\"tsuid1\" value=\"I'm Feeling Lucky\" name=\"btnI\" type=\"submit\"><script nonce=\"uPCvxqs+eaZ16Kisx3TAmQ==\">(function(){var id='tsuid1';document.getElementById(id).onclick = function(){if (this.form.q.value){this.checked = 1;if (this.form.iflsig)this.form.iflsig.disabled = false;}\n",
            "else top.location='/doodles/';};})();</script><input value=\"ALs-wAMAAAAAYTSrhM2ZadV1JsL607k02zS_rBjLGFwE\" name=\"iflsig\" type=\"hidden\"></span></span></td><td class=\"fl sblc\" align=\"left\" nowrap=\"\" width=\"25%\"><a href=\"/advanced_search?hl=en&amp;authuser=0\">Advanced search</a></td></tr></table><input id=\"gbv\" name=\"gbv\" type=\"hidden\" value=\"1\"><script nonce=\"uPCvxqs+eaZ16Kisx3TAmQ==\">(function(){\n",
            "var a,b=\"1\";if(document&&document.getElementById)if(\"undefined\"!=typeof XMLHttpRequest)b=\"2\";else if(\"undefined\"!=typeof ActiveXObject){var c,d,e=[\"MSXML2.XMLHTTP.6.0\",\"MSXML2.XMLHTTP.3.0\",\"MSXML2.XMLHTTP\",\"Microsoft.XMLHTTP\"];for(c=0;d=e[c++];)try{new ActiveXObject(d),b=\"2\"}catch(h){}}a=b;if(\"2\"==a&&-1==location.search.indexOf(\"&gbv=2\")){var f=google.gbvu,g=document.getElementById(\"gbv\");g&&(g.value=a);f&&window.setTimeout(function(){location.href=f},0)};}).call(this);</script></form><div id=\"gac_scont\"></div><div style=\"font-size:83%;min-height:3.5em\"><br></div><span id=\"footer\"><div style=\"font-size:10pt\"><div style=\"margin:19px auto;text-align:center\" id=\"WqQANb\"><a href=\"/intl/en/ads/\">Advertising Programs</a><a href=\"/services/\">Business Solutions</a><a href=\"/intl/en/about.html\">About Google</a></div></div><p style=\"font-size:8pt;color:#70757a\">&copy; 2021 - <a href=\"/intl/en/policies/privacy/\">Privacy</a> - <a href=\"/intl/en/policies/terms/\">Terms</a></p></span></center><script nonce=\"uPCvxqs+eaZ16Kisx3TAmQ==\">(function(){window.google.cdo={height:757,width:1440};(function(){\n",
            "var a=window.innerWidth,b=window.innerHeight;if(!a||!b){var c=window.document,d=\"CSS1Compat\"==c.compatMode?c.documentElement:c.body;a=d.clientWidth;b=d.clientHeight}a&&b&&(a!=google.cdo.width||b!=google.cdo.height)&&google.log(\"\",\"\",\"/client_204?&atyp=i&biw=\"+a+\"&bih=\"+b+\"&ei=\"+google.kEI);}).call(this);})();</script> <script nonce=\"uPCvxqs+eaZ16Kisx3TAmQ==\">(function(){google.xjs={ck:'',cs:'',excm:[]};})();</script>  <script nonce=\"uPCvxqs+eaZ16Kisx3TAmQ==\">(function(){var u='/xjs/_/js/k\\x3dxjs.hp.en_US.uJVE4aH5PNY.O/am\\x3dAPgEWA/d\\x3d1/ed\\x3d1/rs\\x3dACT90oHMCNW-abUb8NKgcji0KPjTPcrpeg/m\\x3dsb_he,d';\n",
            "var e=this||self,f=function(a){return a};var g;var l=function(a,b){this.g=b===h?a:\"\"};l.prototype.toString=function(){return this.g+\"\"};var h={};function m(){var a=u;google.lx=function(){n(a);google.lx=function(){}};google.bx||google.lx()}\n",
            "function n(a){google.timers&&google.timers.load&&google.tick&&google.tick(\"load\",\"xjsls\");var b=document;var c=\"SCRIPT\";\"application/xhtml+xml\"===b.contentType&&(c=c.toLowerCase());c=b.createElement(c);if(void 0===g){b=null;var k=e.trustedTypes;if(k&&k.createPolicy){try{b=k.createPolicy(\"goog#html\",{createHTML:f,createScript:f,createScriptURL:f})}catch(p){e.console&&e.console.error(p.message)}g=b}else g=b}a=(b=g)?b.createScriptURL(a):a;a=new l(a,h);c.src=a instanceof l&&a.constructor===l?a.g:\"type_error:TrustedResourceUrl\";var d;a=(c.ownerDocument&&c.ownerDocument.defaultView||window).document;(d=(b=null===(d=a.querySelector)||void 0===d?void 0:d.call(a,\"script[nonce]\"))?b.nonce||b.getAttribute(\"nonce\")||\"\":\"\")&&c.setAttribute(\"nonce\",d);document.body.appendChild(c);google.psa=!0};setTimeout(function(){m()},0);})();(function(){window.google.xjsu='/xjs/_/js/k\\x3dxjs.hp.en_US.uJVE4aH5PNY.O/am\\x3dAPgEWA/d\\x3d1/ed\\x3d1/rs\\x3dACT90oHMCNW-abUb8NKgcji0KPjTPcrpeg/m\\x3dsb_he,d';})();function _DumpException(e){throw e;}\n",
            "function _F_installCss(c){}\n",
            "(function(){google.jl={attn:false,blt:'none',chnk:0,dw:false,emtn:0,end:0,ine:false,lls:'default',pdt:0,rep:0,sif:true,snet:true,strt:0,ubm:false,uwp:true};})();(function(){var pmc='{\\x22d\\x22:{},\\x22sb_he\\x22:{\\x22agen\\x22:true,\\x22cgen\\x22:true,\\x22client\\x22:\\x22heirloom-hp\\x22,\\x22dh\\x22:true,\\x22dhqt\\x22:true,\\x22ds\\x22:\\x22\\x22,\\x22ffql\\x22:\\x22en\\x22,\\x22fl\\x22:true,\\x22host\\x22:\\x22google.com\\x22,\\x22isbh\\x22:28,\\x22jsonp\\x22:true,\\x22msgs\\x22:{\\x22cibl\\x22:\\x22Clear Search\\x22,\\x22dym\\x22:\\x22Did you mean:\\x22,\\x22lcky\\x22:\\x22I\\\\u0026#39;m Feeling Lucky\\x22,\\x22lml\\x22:\\x22Learn more\\x22,\\x22oskt\\x22:\\x22Input tools\\x22,\\x22psrc\\x22:\\x22This search was removed from your \\\\u003Ca href\\x3d\\\\\\x22/history\\\\\\x22\\\\u003EWeb History\\\\u003C/a\\\\u003E\\x22,\\x22psrl\\x22:\\x22Remove\\x22,\\x22sbit\\x22:\\x22Search by image\\x22,\\x22srch\\x22:\\x22Google Search\\x22},\\x22ovr\\x22:{},\\x22pq\\x22:\\x22\\x22,\\x22refpd\\x22:true,\\x22rfs\\x22:[],\\x22sbas\\x22:\\x220 3px 8px 0 rgba(0,0,0,0.2),0 0 0 1px rgba(0,0,0,0.08)\\x22,\\x22sbpl\\x22:16,\\x22sbpr\\x22:16,\\x22scd\\x22:10,\\x22stok\\x22:\\x22Z_onq4JW56Os2RsN4Ea1Mbj4SCE\\x22,\\x22uhde\\x22:false}}';google.pmc=JSON.parse(pmc);})();</script>        </body></html>\n"
          ]
        }
      ]
    },
    {
      "cell_type": "markdown",
      "metadata": {
        "id": "FxdnFN-eO7H7"
      },
      "source": [
        "**12C)Write a simple script that serves a simple HTTP response and a simple HTMLpage?**"
      ]
    },
    {
      "cell_type": "markdown",
      "metadata": {
        "id": "WIx9yFXhkK1u"
      },
      "source": [
        "AIM:to Write a simple script that serves a simple HTTP response and a simple HTMLpage\n",
        "\n",
        "DESCRIPTION:script is the total format that how a process is going on in the system."
      ]
    },
    {
      "cell_type": "code",
      "metadata": {
        "id": "veGKIV5HPG7x",
        "outputId": "2b3dcadf-0377-40e6-8158-07a10d61fdf8",
        "colab": {
          "base_uri": "https://localhost:8080/"
        }
      },
      "source": [
        "##PROGRAM##\n",
        "\n",
        "from flask import Flask,render_template\n",
        "app=Flask(__name__)\n",
        "print(app)\n",
        "@app.route(\"/\")\n",
        "def main():\n",
        "  return render_template('login.html')\n",
        "\n",
        "if __name__==\"__main__\":\n",
        "  app.run(host=\"127.0.0.1\",port=2500)\n"
      ],
      "execution_count": null,
      "outputs": [
        {
          "output_type": "stream",
          "name": "stdout",
          "text": [
            "<Flask '__main__'>\n",
            " * Serving Flask app \"__main__\" (lazy loading)\n",
            " * Environment: production\n",
            "\u001b[31m   WARNING: This is a development server. Do not use it in a production deployment.\u001b[0m\n",
            "\u001b[2m   Use a production WSGI server instead.\u001b[0m\n",
            " * Debug mode: off\n"
          ]
        },
        {
          "output_type": "stream",
          "name": "stderr",
          "text": [
            " * Running on http://127.0.0.1:2500/ (Press CTRL+C to quit)\n"
          ]
        }
      ]
    },
    {
      "cell_type": "markdown",
      "metadata": {
        "id": "R1_YLqtHQG0l"
      },
      "source": [
        "## EXERCISE-13 OOP"
      ]
    },
    {
      "cell_type": "markdown",
      "metadata": {
        "id": "aXcmHpdnKsx6"
      },
      "source": [
        "**13A)Class variables and instance variable and illustration of the self variable?1.ROBOT  2.ATM MACHINE**"
      ]
    },
    {
      "cell_type": "markdown",
      "metadata": {
        "id": "4tYk38zYkaJE"
      },
      "source": [
        "AIM: to explain about the class and instance variables and illustrate about the self variable.\n",
        "\n",
        "DESCRIPTON:Class variable:variable that is declared with the static modifier of which a single copy exists.it is a specific attribute or a property of a class and may be reffered as static or member variable.\n",
        "\n",
        "Instance variable:variable that is defined in a class.it has the similarities as same as class variable bit it is non static.\n",
        "\n",
        "Selfvariable:it represents the instance of the class which is often used in OOP."
      ]
    },
    {
      "cell_type": "code",
      "metadata": {
        "id": "jSXP9ALAK0i8"
      },
      "source": [
        "##ROBOT##\n",
        "class Robot:\n",
        "    what=\"Machine\"\n",
        "    name=\"Chitti\"\n",
        "    version=1.0\n",
        "    speed=\"1THz\"\n",
        "    memory=\"1ZB\"\n",
        " \n",
        "    def update(upd):\n",
        "        upd.version=2.0\n",
        "        upd.speed=\"2THz\"\n",
        "        upd.memory=\"2ZB\"\n",
        " \n",
        "    def disp(self):\n",
        "        print(\"Myself is a\",robj.what)\n",
        "        print(\"MyName is\",robj.name)\n",
        "        print(\"Version :\",robj.version)\n",
        "        print(\"Speed : \",robj.speed)\n",
        "        print(\"Memory: \",robj.memory)\n",
        " \n",
        "robj=Robot()\n",
        "robj.disp()\n",
        " \n",
        "print(\"###---------------UPDATED VERSION----------------###\")\n",
        "robj.update()\n",
        "robj.disp()"
      ],
      "execution_count": null,
      "outputs": []
    },
    {
      "cell_type": "code",
      "metadata": {
        "id": "_GdiVQlbL2_X"
      },
      "source": [
        "##2.ATM MACHINE##\n",
        "class ATM:\n",
        "    def __init__(self):\n",
        "        self.balance=0\n",
        "        print(\"New Account\")        \n",
        "    def enquire(self):\n",
        "        print(\"Balance: \",self.balance)       \n",
        "    def deposit(self):\n",
        "        amount=int(input(\"Enter the Deposit Amount:\"))\n",
        "        self.balance+=amount\n",
        "        self.enquire()\n",
        "    def withdraw(self):\n",
        "        amount=int(input(\"Enter the Withdraw Amount: \"))\n",
        "        if self.balance<amount:\n",
        "            print(\"Insufficient Balance.......!\")\n",
        "        else:\n",
        "            self.balance-=amount\n",
        "            self.enquire()\n",
        "aobj=ATM()\n",
        "while(True):\n",
        "    print(\"*****Menu****\")\n",
        "    print(\"1.Deposit\")\n",
        "    print(\"2.Withdraw\")\n",
        "    print(\"3.Balance\")\n",
        "    print(\"0.Exit\")\n",
        "    ch=int(input(\"Enter Your Choice: \"))\n",
        "    if ch==0:\n",
        "        break\n",
        "    elif ch==1:\n",
        "        aobj.deposit()\n",
        "    elif ch==2:\n",
        "        aobj.withdraw()\n",
        "    elif ch==3:\n",
        "        aobj.enquire()\n",
        "    else:\n",
        "        print(\"Invalid choice:\")\n",
        "        pass"
      ],
      "execution_count": null,
      "outputs": []
    },
    {
      "cell_type": "markdown",
      "metadata": {
        "id": "djsb_1HNl_wQ"
      },
      "source": [
        "# EXERCISE-14 GUI PROGRAMMING"
      ]
    },
    {
      "cell_type": "markdown",
      "metadata": {
        "id": "Pve8jym4mNt1"
      },
      "source": [
        "**14A)write a GUI program for an expression calculator using tk**"
      ]
    },
    {
      "cell_type": "markdown",
      "metadata": {
        "id": "aoiNID_SgrDV"
      },
      "source": [
        "AIM:To write a GUI program for an expression calculator using tk\n",
        "\n",
        "DESCRIPTION:GUI means graphical user interface used for graphical representations like calculator,etc"
      ]
    },
    {
      "cell_type": "code",
      "metadata": {
        "id": "t7pi-abklNzb"
      },
      "source": [
        "##PROGRAM##\n",
        "\n",
        "from tkinter import *\n",
        "\n",
        "win=Tk() \n",
        "win.geometry(\"312x324\")   \n",
        "win.resizable(0, 0)   \n",
        "win.title(\"Calculator\")\n",
        "\n",
        " \n",
        "\n",
        "def btn_click(item):    \n",
        "    global expression\n",
        "    expression = expression + str(item)\n",
        "    input_text.set(expression)\n",
        "\n",
        " \n",
        "def bt_clear(): \n",
        "    global expression \n",
        "    expression = \"\" \n",
        "    input_text.set(\"\")\n",
        " \n",
        " \n",
        "def bt_equal():\n",
        "    global expression\n",
        "    result = str(eval(expression))  \n",
        "    input_text.set(result)\n",
        "    expression = \"\"\n",
        " \n",
        "expression = \"\"\n",
        " \n",
        " \n",
        " \n",
        "input_text = StringVar()\n",
        " \n",
        " \n",
        "input_frame = Frame(win, width=312, height=50, bd=0, highlightbackground=\"black\", highlightcolor=\"black\", highlightthickness=2)\n",
        " \n",
        "input_frame.pack(side=TOP)\n",
        "  \n",
        " \n",
        "input_field = Entry(input_frame, font=('arial', 18, 'bold'), textvariable=input_text, width=50, bg=\"#eee\", bd=0, justify=RIGHT)\n",
        " \n",
        "input_field.grid(row=0, column=0)\n",
        "input_field.pack(ipady=10)  \n",
        " \n",
        "btns_frame = Frame(win, width=312, height=272.5, bg=\"grey\")\n",
        " \n",
        "btns_frame.pack()\n",
        " \n",
        " \n",
        " \n",
        "clear = Button(btns_frame, text = \"C\", fg = \"black\", width = 32, height = 3, bd = 0, bg = \"#eee\", cursor = \"hand2\", command = lambda: bt_clear()).grid(row = 0, column = 0, columnspan = 3, padx = 1, pady = 1)\n",
        " \n",
        "divide = Button(btns_frame, text = \"/\", fg = \"black\", width = 10, height = 3, bd = 0, bg = \"#eee\", cursor = \"hand2\", command = lambda: btn_click(\"/\")).grid(row = 0, column = 3, padx = 1, pady = 1)\n",
        " \n",
        " \n",
        "seven = Button(btns_frame, text = \"7\", fg = \"black\", width = 10, height = 3, bd = 0, bg = \"#fff\", cursor = \"hand2\", command = lambda: btn_click(7)).grid(row = 1, column = 0, padx = 1, pady = 1)\n",
        " \n",
        "eight = Button(btns_frame, text = \"8\", fg = \"black\", width = 10, height = 3, bd = 0, bg = \"#fff\", cursor = \"hand2\", command = lambda: btn_click(8)).grid(row = 1, column = 1, padx = 1, pady = 1)\n",
        " \n",
        "nine = Button(btns_frame, text = \"9\", fg = \"black\", width = 10, height = 3, bd = 0, bg = \"#fff\", cursor = \"hand2\", command = lambda: btn_click(9)).grid(row = 1, column = 2, padx = 1, pady = 1)\n",
        " \n",
        "multiply = Button(btns_frame, text = \"*\", fg = \"black\", width = 10, height = 3, bd = 0, bg = \"#eee\", cursor = \"hand2\", command = lambda: btn_click(\"*\")).grid(row = 1, column = 3, padx = 1, pady = 1)\n",
        " \n",
        " \n",
        " \n",
        "four = Button(btns_frame, text = \"4\", fg = \"black\", width = 10, height = 3, bd = 0, bg = \"#fff\", cursor = \"hand2\", command = lambda: btn_click(4)).grid(row = 2, column = 0, padx = 1, pady = 1)\n",
        " \n",
        "five = Button(btns_frame, text = \"5\", fg = \"black\", width = 10, height = 3, bd = 0, bg = \"#fff\", cursor = \"hand2\", command = lambda: btn_click(5)).grid(row = 2, column = 1, padx = 1, pady = 1)\n",
        "six = Button(btns_frame, text = \"6\", fg = \"black\", width = 10, height = 3, bd = 0, bg = \"#fff\", cursor = \"hand2\", command = lambda: btn_click(6)).grid(row = 2, column = 2, padx = 1, pady = 1)\n",
        " \n",
        "minus = Button(btns_frame, text = \"-\", fg = \"black\", width = 10, height = 3, bd = 0, bg = \"#eee\", cursor = \"hand2\", command = lambda: btn_click(\"-\")).grid(row = 2, column = 3, padx = 1, pady = 1)\n",
        "  \n",
        " \n",
        "one = Button(btns_frame, text = \"1\", fg = \"black\", width = 10, height = 3, bd = 0, bg = \"#fff\", cursor = \"hand2\", command = lambda: btn_click(1)).grid(row = 3, column = 0, padx = 1, pady = 1)\n",
        " \n",
        "two = Button(btns_frame, text = \"2\", fg = \"black\", width = 10, height = 3, bd = 0, bg = \"#fff\", cursor = \"hand2\", command = lambda: btn_click(2)).grid(row = 3, column = 1, padx = 1, pady = 1)\n",
        " \n",
        "three = Button(btns_frame, text = \"3\", fg = \"black\", width = 10, height = 3, bd = 0, bg = \"#fff\", cursor = \"hand2\", command = lambda: btn_click(3)).grid(row = 3, column = 2, padx = 1, pady = 1)\n",
        " \n",
        "plus = Button(btns_frame, text = \"+\", fg = \"black\", width = 10, height = 3, bd = 0, bg = \"#eee\", cursor = \"hand2\", command = lambda: btn_click(\"+\")).grid(row = 3, column = 3, padx = 1, pady = 1)\n",
        " \n",
        " \n",
        " \n",
        "zero = Button(btns_frame, text = \"0\", fg = \"black\", width = 21, height = 3, bd = 0, bg = \"#fff\", cursor = \"hand2\", command = lambda: btn_click(0)).grid(row = 4, column = 0, columnspan = 2, padx = 1, pady = 1)\n",
        " \n",
        "point = Button(btns_frame, text = \".\", fg = \"black\", width = 10, height = 3, bd = 0, bg = \"#eee\", cursor = \"hand2\", command = lambda: btn_click(\".\")).grid(row = 4, column = 2, padx = 1, pady = 1)\n",
        " \n",
        "equals = Button(btns_frame, text = \"=\", fg = \"black\", width = 10, height = 3, bd = 0, bg = \"#eee\", cursor = \"hand2\", command = lambda: bt_equal()).grid(row = 4, column = 3, padx = 1, pady = 1)\n",
        " \n",
        "win.mainloop()"
      ],
      "execution_count": null,
      "outputs": []
    },
    {
      "cell_type": "markdown",
      "metadata": {
        "id": "bjeke1_2ml7f"
      },
      "source": [
        "**14B)write a program to implement the following figures**"
      ]
    },
    {
      "cell_type": "markdown",
      "metadata": {
        "id": "JHpIyX7XhLiD"
      },
      "source": [
        "AIM:to write a program to implement the following figures\n",
        "DESCRIPTION:here turtles are used to implement the figures by giving some measures like angles."
      ]
    },
    {
      "cell_type": "code",
      "metadata": {
        "id": "IBDeuOxZmxUh"
      },
      "source": [
        "##PROGRAM##\n",
        "\n",
        "import turtle\n",
        "turtle.pensize(3)\n",
        " \n",
        "for i in range(36):\n",
        "    for j in [4] :\n",
        "     turtle.forward(70)   \n",
        "     turtle.left(55)\n",
        "     turtle.left(30)\n",
        "\n"
      ],
      "execution_count": null,
      "outputs": []
    },
    {
      "cell_type": "markdown",
      "metadata": {
        "id": "7wNJr7I6nfNQ"
      },
      "source": [
        "**14B)2**"
      ]
    },
    {
      "cell_type": "code",
      "metadata": {
        "id": "ILVOvvmVnlLg"
      },
      "source": [
        "##PROGRAM##\n",
        "\n",
        "import turtle\n",
        "c=[\"red\",\"green\",\"blue\"]\n",
        "i=o\n",
        "turtle.pensize(3)\n",
        " \n",
        "for angle in range(0,30,60):\n",
        "  if i>2:\n",
        "    i=0\n",
        "     turtle.color(c[i])   \n",
        "     turtle.seth(angle)\n",
        "     turtle.circle(30)\n",
        "     i+=1"
      ],
      "execution_count": null,
      "outputs": []
    },
    {
      "cell_type": "markdown",
      "metadata": {
        "id": "lcOUbXrxoVnr"
      },
      "source": [
        "#EXERCISE-15 TESTING "
      ]
    },
    {
      "cell_type": "markdown",
      "metadata": {
        "id": "OLkS3nLcod-t"
      },
      "source": [
        "**15A)write a test case to check the function even numbers which return true on passing a list of all even numbers**"
      ]
    },
    {
      "cell_type": "markdown",
      "metadata": {
        "id": "KBP_FhapblJM"
      },
      "source": [
        "AIM: To write a test case to check the function even numbers which return true on passing a list of even numbers.\n",
        "\n",
        "DESCRIPTION:function in python is a set of programs.we have to define the function and call when it required.\n",
        "\n",
        "\n",
        "SYNTAX:def function_name():\n"
      ]
    },
    {
      "cell_type": "code",
      "metadata": {
        "id": "Vksl4TBPosVc",
        "outputId": "0e05e8e2-4ed8-4f2f-dba4-5af1f80bfefd",
        "colab": {
          "base_uri": "https://localhost:8080/"
        }
      },
      "source": [
        "##PROGRAM##\n",
        "\n",
        "def checklistiseven(elements):\n",
        "    p=True\n",
        "    for i in elements:\n",
        "        if i%2==1:\n",
        "            p=False\n",
        "            break\n",
        "    return p         \n",
        "elements=[]\n",
        "n=int(input(\"enter limit of input: \"))\n",
        "for i in range(n):\n",
        "    elements.append(int(input(\"element-\"+str(i+1)+\" : \")))\n",
        "print(checklistiseven(elements))"
      ],
      "execution_count": 1,
      "outputs": [
        {
          "output_type": "stream",
          "name": "stdout",
          "text": [
            "enter limit of input: 5\n",
            "element-1 : 4\n",
            "element-2 : 2\n",
            "element-3 : 6\n",
            "element-4 : 8\n",
            "element-5 : 100\n",
            "True\n"
          ]
        }
      ]
    },
    {
      "cell_type": "markdown",
      "metadata": {
        "id": "QnDb-3smpGnv"
      },
      "source": [
        "**15B)write a test case to check the function reverse string which returns the reversed string** "
      ]
    },
    {
      "cell_type": "markdown",
      "metadata": {
        "id": "ih-ppIHddHOy"
      },
      "source": [
        "AIM:to write a test case to check the function reverse string which returns the reversed string.\n",
        "\n",
        "DESCRIPTION:string is a collection of characters and denoted within \" \".here reverse of a string is the reverse form of the given string.\n",
        "\n",
        "EXAMPLE:character:'T','E','J','U'   whereas string:\"TEJU\""
      ]
    },
    {
      "cell_type": "markdown",
      "metadata": {
        "id": "BPCVheEzc4y7"
      },
      "source": [
        ""
      ]
    },
    {
      "cell_type": "code",
      "metadata": {
        "id": "Dl2DEtMnpWkJ",
        "outputId": "8169d1b4-fad8-47c9-b227-9670bec20c45",
        "colab": {
          "base_uri": "https://localhost:8080/"
        }
      },
      "source": [
        "##PROGRAM##\n",
        "\n",
        "def rev_string(name):\n",
        "    return name[::-1]\n",
        "\n",
        "\n",
        "name=input(\"enter any String: \")\n",
        "\n",
        "print(\"Reverse of the given String = \"+rev_string(name))"
      ],
      "execution_count": 2,
      "outputs": [
        {
          "output_type": "stream",
          "name": "stdout",
          "text": [
            "enter any String: swarnandhra\n",
            "Reverse of the given String = arhdnanraws\n"
          ]
        }
      ]
    },
    {
      "cell_type": "markdown",
      "metadata": {
        "id": "kcYYQzunphbL"
      },
      "source": [
        "#EXERCISE-16 ADVANCED"
      ]
    },
    {
      "cell_type": "markdown",
      "metadata": {
        "id": "OmIuTwlhpqur"
      },
      "source": [
        "**16A)*Build any one classical data structure**"
      ]
    },
    {
      "cell_type": "markdown",
      "metadata": {
        "id": "l4xwMqLnefaD"
      },
      "source": [
        "AIM:Build any one classical data structure\n",
        "\n",
        "DESCRIPTION:in this program we are using stack datastructure and its operations.\n",
        "like push,pop,display."
      ]
    },
    {
      "cell_type": "markdown",
      "metadata": {
        "id": "vxfcjfpmeWQv"
      },
      "source": [
        ""
      ]
    },
    {
      "cell_type": "code",
      "metadata": {
        "id": "aABwBeaJpwmx",
        "outputId": "f924bcc5-c54f-42af-a6a0-f9de8d5592a0",
        "colab": {
          "base_uri": "https://localhost:8080/"
        }
      },
      "source": [
        "##PROGRAM##\n",
        "\n",
        "stack=[]\n",
        "\n",
        "while True:\n",
        "    print(\"1.Push\\n2.Pop\\n3.Display\\n4.Exit\")\n",
        "    c=int(input(\"enter your choice: \"))\n",
        "    \n",
        "    if c==1:\n",
        "        e=int(input(\"enter element: \"))\n",
        "        stack.append(e)\n",
        "        print(\"element is Pushed\")\n",
        "    elif c==2:\n",
        "        if len(stack)==0:\n",
        "            print(\"stack is empty\")\n",
        "        else:\n",
        "            print(\"element \"+str(stack[len(stack)-1])+\" is Poped\")\n",
        "            stack.remove(stack[len(stack)-1])\n",
        "    elif c==3:\n",
        "        if len(stack)==0:\n",
        "            print(\"stack is empty\")\n",
        "        else:\n",
        "            print(\"elements in the stack : \"+str(stack))    \n",
        "    elif c==4:\n",
        "        break\n",
        "    else:\n",
        "        print(\"invalid choice......\")\n"
      ],
      "execution_count": 3,
      "outputs": [
        {
          "name": "stdout",
          "output_type": "stream",
          "text": [
            "1.Push\n",
            "2.Pop\n",
            "3.Display\n",
            "4.Exit\n",
            "enter your choice: 1\n",
            "enter element: 45\n",
            "element is Pushed\n",
            "1.Push\n",
            "2.Pop\n",
            "3.Display\n",
            "4.Exit\n",
            "enter your choice: 1\n",
            "enter element: 254\n",
            "element is Pushed\n",
            "1.Push\n",
            "2.Pop\n",
            "3.Display\n",
            "4.Exit\n",
            "enter your choice: 2\n",
            "element 254 is Poped\n",
            "1.Push\n",
            "2.Pop\n",
            "3.Display\n",
            "4.Exit\n",
            "enter your choice: 3\n",
            "elements in the stack : [45]\n",
            "1.Push\n",
            "2.Pop\n",
            "3.Display\n",
            "4.Exit\n",
            "enter your choice: 4\n"
          ]
        }
      ]
    },
    {
      "cell_type": "markdown",
      "metadata": {
        "id": "GXz8nIzpqA6l"
      },
      "source": [
        "**16B)write a program to solve knapsack problem**"
      ]
    },
    {
      "cell_type": "markdown",
      "metadata": {
        "id": "NHslFl2sfGAr"
      },
      "source": [
        "AIM:write a program to solve knapsack problem.\n",
        "\n",
        "DESCRIPTION:knapsack is one of the problem in algorithms.in this profits,weights and capacity of bag will be given we have to fill the bag with maximum profit without exceeding its cpacity. "
      ]
    },
    {
      "cell_type": "code",
      "metadata": {
        "id": "eim1vRjIqIHy",
        "outputId": "92231f23-e64b-4d58-edf9-36e7cb0bef37",
        "colab": {
          "base_uri": "https://localhost:8080/"
        }
      },
      "source": [
        "##PROGRAM##\n",
        "\n",
        "def knapSack(W, wt, val, n):\n",
        "\tK = [[0 for x in range(W + 1)] for x in range(n + 1)]\n",
        "\n",
        "\t \n",
        "\tfor i in range(n + 1):\n",
        "\t\tfor w in range(W + 1):\n",
        "\t\t\tif i == 0 or w == 0:\n",
        "\t\t\t\tK[i][w] = 0\n",
        "\t\t\telif wt[i-1] <= w:\n",
        "\t\t\t\tK[i][w] = max(val[i-1] + K[i-1][w-wt[i-1]], K[i-1][w])\n",
        "\t\t\telse:\n",
        "\t\t\t\tK[i][w] = K[i-1][w]\n",
        "\n",
        "\treturn K[n][W]\n",
        "\n",
        " \n",
        "val = [5,3,4]\n",
        "wt = [3,2,1]\n",
        "W = 5\n",
        "n = len(val)\n",
        "print(knapSack(W, wt, val, n))"
      ],
      "execution_count": 5,
      "outputs": [
        {
          "output_type": "stream",
          "name": "stdout",
          "text": [
            "9\n"
          ]
        }
      ]
    },
    {
      "cell_type": "markdown",
      "metadata": {
        "id": "T2NnI-fWqb9M"
      },
      "source": [
        "#EXERCISE-17&18 DATA ANALYSIS"
      ]
    },
    {
      "cell_type": "markdown",
      "metadata": {
        "id": "xf9UgarNqoI7"
      },
      "source": [
        "**Data analysis or manipulation using the following packages  \n",
        "a.NUMPY            b.PANDAS\n",
        "   c.SCIPY   d.MATPLOTLIB"
      ]
    },
    {
      "cell_type": "code",
      "metadata": {
        "id": "qvhhbVs_q67L"
      },
      "source": [
        "import sys\n",
        "print('python:{}'.format(sys.version))\n",
        "\n",
        "#scipy\n",
        "import scipy\n",
        "print('scipy:{}'.format(scipy.__version__))\n",
        "\n",
        "#numpy\n",
        "import  numpy\n",
        "print('numpy:{}'.format(numpy.__version__))\n",
        "\n",
        "#matplotlib\n",
        "import  matplotlib\n",
        "print('matplotlib:{}'.format(matplotlib.__version__))\n",
        "\n",
        "import   pandas\n",
        "print('pandas:{}'.format(pandas.__version__))\n",
        "\n",
        "import  sklearn\n",
        "print('sklearn:{}'.format(sklearn.__version__))\n",
        "\n",
        "import  seaborn\n",
        "print('seaborn:{}'.format(seaborn.__version__))\n",
        "\n",
        "import  urllib\n",
        "print('urllib:{}'.format(urllib.__name__))\n",
        "\n",
        "\n",
        "import  csv\n",
        "print('csv:{}'.format(csv.__version__))"
      ],
      "execution_count": null,
      "outputs": []
    },
    {
      "cell_type": "markdown",
      "metadata": {
        "id": "cNCwHaXkrki_"
      },
      "source": [
        "#NUMPY"
      ]
    },
    {
      "cell_type": "code",
      "metadata": {
        "id": "lR9FkyQcrcfb"
      },
      "source": [
        "#example code for initializaing numpy array\n",
        "import numpy as np\n",
        "a=np.array([0,1,2])\n",
        "print(type(a))\n",
        "\n",
        "print(a.shape)\n",
        "print(a[0])\n",
        "print(a[1])\n",
        "print(a[2])\n",
        "\n",
        "a[0]=5\n",
        "print(a)"
      ],
      "execution_count": null,
      "outputs": []
    },
    {
      "cell_type": "code",
      "metadata": {
        "id": "4JV5JMbxrzca"
      },
      "source": [
        "#create a rank 2 array\n",
        "import numpy as np\n",
        "b=np.array([[0,1,2],[3,4,5]])\n",
        "print(b.shape)\n",
        "print(b)\n",
        "print(b[0,0],b[0,1],b[1,0])"
      ],
      "execution_count": null,
      "outputs": []
    },
    {
      "cell_type": "code",
      "metadata": {
        "id": "RMxmRROmr40A"
      },
      "source": [
        "#craete a 3x3 array of all zeros\n",
        "\n",
        "a=np.zeros((3,3))\n",
        "print(a)\n"
      ],
      "execution_count": null,
      "outputs": []
    },
    {
      "cell_type": "code",
      "metadata": {
        "id": "0U_MYcYxr8kH"
      },
      "source": [
        "#craete a 2x2 array of all ones\n",
        "b=np.ones((2,2))\n",
        "print(b)"
      ],
      "execution_count": null,
      "outputs": []
    },
    {
      "cell_type": "code",
      "metadata": {
        "id": "O_C6yrrgsAsh"
      },
      "source": [
        "#craete a 3x3 constant array\n",
        "c=np.full((3,3),7)\n",
        "print(c)"
      ],
      "execution_count": null,
      "outputs": []
    },
    {
      "cell_type": "code",
      "metadata": {
        "id": "jP3S5hGKsD_D"
      },
      "source": [
        "#create a 3x3 array filled with random values\n",
        "\n",
        "d=np.random.random((3,3))\n",
        "print(d)"
      ],
      "execution_count": null,
      "outputs": []
    },
    {
      "cell_type": "code",
      "metadata": {
        "id": "Hj2J73L8sKnP"
      },
      "source": [
        "#craete a 3x3 identity matrix\n",
        "e=np.eye(3)\n",
        "print(e)"
      ],
      "execution_count": null,
      "outputs": []
    },
    {
      "cell_type": "code",
      "metadata": {
        "id": "Vxv3C3yHsLhb",
        "colab": {
          "base_uri": "https://localhost:8080/"
        },
        "outputId": "984f493d-9799-402f-fba3-b77f60056b14"
      },
      "source": [
        "#convert list to array\n",
        "f=np.array([2,3,0,1])\n",
        "print(f)"
      ],
      "execution_count": null,
      "outputs": [
        {
          "output_type": "stream",
          "text": [
            "[2 3 0 1]\n"
          ],
          "name": "stdout"
        }
      ]
    },
    {
      "cell_type": "code",
      "metadata": {
        "id": "Vot5ITCIsPrl"
      },
      "source": [
        "#arange() will create array with regularly incrementing values\n",
        "g=np.arange(2,10)\n",
        "print(g)"
      ],
      "execution_count": null,
      "outputs": []
    },
    {
      "cell_type": "code",
      "metadata": {
        "id": "6fleH_gmsVIB"
      },
      "source": [
        "#note  mix of tuple and lists\n",
        "\n",
        "h=np.array([[0,1,2.0],[0,0,0],(1+1j,3.,2.)])\n",
        "print(h)"
      ],
      "execution_count": null,
      "outputs": []
    },
    {
      "cell_type": "code",
      "metadata": {
        "id": "9xTNbemAv_o5"
      },
      "source": [
        "#create an array of range with float data type\n",
        "i=np.arange(1,8,dtype=np.float)\n",
        "print(i)"
      ],
      "execution_count": null,
      "outputs": []
    },
    {
      "cell_type": "code",
      "metadata": {
        "id": "KK-FIQ8rwOc2"
      },
      "source": [
        "#linespace\n",
        "j = np.linspace(2.,4.,5)\n",
        "print(j)"
      ],
      "execution_count": null,
      "outputs": []
    },
    {
      "cell_type": "code",
      "metadata": {
        "id": "EusxZRpSwtjw"
      },
      "source": [
        "#indices()\n",
        "k=np.indices((3,3))\n",
        "print(k)\n"
      ],
      "execution_count": null,
      "outputs": []
    },
    {
      "cell_type": "code",
      "metadata": {
        "id": "yK12la9iw5Dn"
      },
      "source": [
        "#numpy datatypes\n",
        "x=np.array([0,1])\n",
        "y=np.array([2.0,3.0])\n",
        "z=np.array([5,6],dtype=np.int64)\n",
        "print(x.dtype,y.dtype,z.dtype)"
      ],
      "execution_count": null,
      "outputs": []
    },
    {
      "cell_type": "code",
      "metadata": {
        "id": "FpHIBfz6xSpC"
      },
      "source": [
        "#basic slicing\n",
        "x=np.array([5,6,7,8,9])\n",
        "print(x[1:7:2])\n",
        "print(x[-2:5])\n",
        "print(x[-1:1:-1])"
      ],
      "execution_count": null,
      "outputs": []
    },
    {
      "cell_type": "code",
      "metadata": {
        "id": "e_r78q_3xlip"
      },
      "source": [
        "#boolean array indexing\n",
        "a=np.array(([1,2],[3,4],[5,6]))\n",
        "print(a>2)\n",
        "print(a[a>2])"
      ],
      "execution_count": null,
      "outputs": []
    },
    {
      "cell_type": "code",
      "metadata": {
        "id": "EfXQM1aqihpd"
      },
      "source": [
        "import numpy as np\n",
        "x=np.array([[1,2],[3,4][5,6]])\n",
        "y=np.array([[7,8],[9,10],[11,12]])\n",
        "print(x+y)\n",
        "print(np.add(x,y))\n",
        "print(x-y)\n",
        "print(np.subtract(x-y))\n"
      ],
      "execution_count": null,
      "outputs": []
    },
    {
      "cell_type": "code",
      "metadata": {
        "id": "6pj-NGmex3_P"
      },
      "source": [
        "#products\n",
        "print(x*y)\n",
        "print(np.multiply(x,y))"
      ],
      "execution_count": null,
      "outputs": []
    },
    {
      "cell_type": "code",
      "metadata": {
        "id": "Q4VrTCIrMcvy"
      },
      "source": [
        "#division\n",
        "print(x/y)\n",
        "print(np.divide(x,y))"
      ],
      "execution_count": null,
      "outputs": []
    },
    {
      "cell_type": "code",
      "metadata": {
        "id": "fwC4PPv7Mqe2"
      },
      "source": [
        "print(np.sqrt(x))"
      ],
      "execution_count": null,
      "outputs": []
    },
    {
      "cell_type": "code",
      "metadata": {
        "id": "JYpDx8xTyJg6"
      },
      "source": [
        "#vectors\n",
        "a=np.array([9,10])\n",
        "b=np.array([11,12])\n",
        "print(a.dot(b))\n",
        "print(np.dot(a,b))"
      ],
      "execution_count": null,
      "outputs": []
    },
    {
      "cell_type": "code",
      "metadata": {
        "id": "J8rJH0j_MyPP"
      },
      "source": [
        "#matrix/vector product bothproduce the rank 1 array\n",
        "x=np.array([1,2],[3,4])\n",
        "print(x.dot(a))\n",
        "print(np.dot(x,a))"
      ],
      "execution_count": null,
      "outputs": []
    },
    {
      "cell_type": "code",
      "metadata": {
        "id": "RCQlT6xJN9-I"
      },
      "source": [
        "#matrix product\n",
        "y=np.array([5,6],[7,8])\n",
        "print(x.dot(y))\n",
        "print(np.dot(x,y))\n"
      ],
      "execution_count": null,
      "outputs": []
    },
    {
      "cell_type": "code",
      "metadata": {
        "id": "NVL5bTE4yePq"
      },
      "source": [
        "#sum function\n",
        "x=np.array([[1,2],[3,4]])\n",
        "print(np.sum(x))\n",
        "print(np.sum(x,axis=0))\n",
        "print(np.sum(x,axis=1))"
      ],
      "execution_count": null,
      "outputs": []
    },
    {
      "cell_type": "code",
      "metadata": {
        "id": "v8c8T4g8zAcb"
      },
      "source": [
        "#transpose function\n",
        "x=np.array([[1,2],[3,4])\n",
        "print(x)\n",
        "print(x,T)"
      ],
      "execution_count": null,
      "outputs": []
    },
    {
      "cell_type": "code",
      "metadata": {
        "id": "1o01e5bnOSh9"
      },
      "source": [
        "#broadcasting using numpy\n",
        "a=np.array([[1,2,3],[4,5,6],[7,8,9])\n",
        "v=np.array([1,0,1])\n",
        "b=a+v\n",
        "print(b)"
      ],
      "execution_count": null,
      "outputs": []
    },
    {
      "cell_type": "code",
      "metadata": {
        "id": "Rz6c4cXPOr2I"
      },
      "source": [
        "x=np.array([[1,2,1],[3,4,1],[7,8,9])\n",
        "print(\"x.T:\\n\",x.T)\n",
        "w=np.array([[1,1])\n",
        "print(w:\\n\",w)\n",
        "print(\"final:\\n\",(x.T+w).T)"
      ],
      "execution_count": null,
      "outputs": []
    },
    {
      "cell_type": "code",
      "metadata": {
        "id": "zJZ2bgUOPQe0"
      },
      "source": [
        "#matrix multiplication by  constant\n",
        "print(x*2)"
      ],
      "execution_count": null,
      "outputs": []
    },
    {
      "cell_type": "code",
      "metadata": {
        "id": "ZU7bfXCLPatq"
      },
      "source": [
        "import numpy as np\n",
        "np.random.rand(3,2)\n"
      ],
      "execution_count": null,
      "outputs": []
    },
    {
      "cell_type": "code",
      "metadata": {
        "id": "mQqUT_oZPgFw"
      },
      "source": [
        "np.random.rand(10)"
      ],
      "execution_count": null,
      "outputs": []
    },
    {
      "cell_type": "code",
      "metadata": {
        "id": "xYBRHoUgPj8P"
      },
      "source": [
        "import random\n",
        "print(random.randint(0,9))"
      ],
      "execution_count": null,
      "outputs": []
    },
    {
      "cell_type": "markdown",
      "metadata": {
        "id": "JFV0HeZ9tzJc"
      },
      "source": [
        "#pandas"
      ]
    },
    {
      "cell_type": "code",
      "metadata": {
        "id": "bIWclI6BtuDn"
      },
      "source": [
        "import pandas as pd\n",
        "\n",
        "s=pd.Series([1,2,3,4,5],index=['A','B','C','D','E'])\n",
        "s"
      ],
      "execution_count": null,
      "outputs": []
    },
    {
      "cell_type": "code",
      "metadata": {
        "id": "k1Om_rfst12n"
      },
      "source": [
        "#creating data frame\n",
        "import pandas as pd \n",
        "data = {'Name':['Teju', 'sahi', 'honey', 'bunny'],\n",
        "        'Age':[19,15,20,13]}\n",
        "df = pd.DataFrame(data)\n",
        "print(df)"
      ],
      "execution_count": null,
      "outputs": []
    },
    {
      "cell_type": "code",
      "metadata": {
        "id": "knOQvUQJP0JI"
      },
      "source": [
        "#load csv data from URL using numpy\n",
        "from numpy import loadtxt\n",
        "from urllib.request import urlopen\n",
        "url='https://raw.githubusercontent.com/jbrowlee/datasets/master/pima-indins-diabetes'\n",
        "raw_data=pd.read_csv(urloprn(url))\n",
        "raw_data.shape\n",
        "raw_data.head()"
      ],
      "execution_count": null,
      "outputs": []
    },
    {
      "cell_type": "code",
      "metadata": {
        "id": "n2NMoQUgQj_7"
      },
      "source": [
        "raw_data.tail()"
      ],
      "execution_count": null,
      "outputs": []
    },
    {
      "cell_type": "code",
      "metadata": {
        "id": "LyYpE_4QQm9m"
      },
      "source": [
        "raw_data.head(25)"
      ],
      "execution_count": null,
      "outputs": []
    },
    {
      "cell_type": "code",
      "metadata": {
        "id": "2WYNTEU7RA2s"
      },
      "source": [
        "raw_data.describe()\n"
      ],
      "execution_count": null,
      "outputs": []
    },
    {
      "cell_type": "code",
      "metadata": {
        "id": "Z04idk5xRETe"
      },
      "source": [
        "raw_data.cov()"
      ],
      "execution_count": null,
      "outputs": []
    },
    {
      "cell_type": "code",
      "metadata": {
        "id": "hc9rpwqZREzC"
      },
      "source": [
        "raw_data.corr()"
      ],
      "execution_count": null,
      "outputs": []
    },
    {
      "cell_type": "code",
      "metadata": {
        "id": "D0ZdwqnqzerN"
      },
      "source": [
        "#read from iris data\n",
        "from sklearn.datasets import load_iris\n",
        "import numpy as np\n",
        "iris=load_iris()\n",
        "iris"
      ],
      "execution_count": null,
      "outputs": []
    },
    {
      "cell_type": "code",
      "metadata": {
        "id": "qehY9_o7zwnl"
      },
      "source": [
        "x=pd.DataFrame(iris.data)"
      ],
      "execution_count": null,
      "outputs": []
    },
    {
      "cell_type": "code",
      "metadata": {
        "id": "nqc8b76jz8lH"
      },
      "source": [
        "x.shape\n",
        "x.columns=['sepal_length','sepal_width','petal_length','petal_width']\n",
        "x.head()"
      ],
      "execution_count": null,
      "outputs": []
    },
    {
      "cell_type": "code",
      "metadata": {
        "id": "8r425PRG0Zwk"
      },
      "source": [
        "x.tail()"
      ],
      "execution_count": null,
      "outputs": []
    },
    {
      "cell_type": "code",
      "metadata": {
        "id": "0HA-z4TP0hPW"
      },
      "source": [
        "x.describe()"
      ],
      "execution_count": null,
      "outputs": []
    },
    {
      "cell_type": "code",
      "metadata": {
        "id": "3iGnzsqh0lFG"
      },
      "source": [
        "x.cov()"
      ],
      "execution_count": null,
      "outputs": []
    },
    {
      "cell_type": "code",
      "metadata": {
        "id": "wnH-vohs0vrL"
      },
      "source": [
        "x.corr()"
      ],
      "execution_count": null,
      "outputs": []
    },
    {
      "cell_type": "code",
      "metadata": {
        "id": "dJ3Z5mQJRm0f"
      },
      "source": [
        "#grouping operation\n",
        "df=pd.Dataframe({'NAME':['teju','sahi','bunny'],'state':['IND','IND','IND'],\n",
        "                 'grade':['A','A','A'],'age':np.random.uniform(20,16,size=3),'salary':np.random.uniform(35000,25000,size=3)})\n",
        "print(df)"
      ],
      "execution_count": null,
      "outputs": []
    },
    {
      "cell_type": "code",
      "metadata": {
        "id": "omatdJSMRmn6"
      },
      "source": [
        "df.groupby(['name','state']).max()"
      ],
      "execution_count": null,
      "outputs": []
    },
    {
      "cell_type": "markdown",
      "metadata": {
        "id": "a7cHK5fu01Zu"
      },
      "source": [
        "#SCIPY"
      ]
    },
    {
      "cell_type": "code",
      "metadata": {
        "id": "tWA9jCEk03OG"
      },
      "source": [
        "import numpy as np\n",
        "np.linspace(1.,3.,5.)"
      ],
      "execution_count": null,
      "outputs": []
    },
    {
      "cell_type": "code",
      "metadata": {
        "id": "x1I51hw01DQG"
      },
      "source": [
        "#kmeans using scipy\n",
        "from scipy.cluster.vq import kmeans,vq,whiten\n",
        "from numpy import vstack,array\n",
        "from numpy.random import rand\n",
        "data=vstack((rand(100,3)+array([.5,.5,.5]),rand(100,3)))\n",
        "data"
      ],
      "execution_count": null,
      "outputs": []
    },
    {
      "cell_type": "code",
      "metadata": {
        "id": "xtTXX1ru14im"
      },
      "source": [
        "data=whiten(data)\n",
        "data"
      ],
      "execution_count": null,
      "outputs": []
    },
    {
      "cell_type": "code",
      "metadata": {
        "id": "K3zs4Utb19LK"
      },
      "source": [
        "centroids=kmeans(data,3)\n",
        "centroids"
      ],
      "execution_count": null,
      "outputs": []
    },
    {
      "cell_type": "code",
      "metadata": {
        "id": "Y2nR8JEA2EeJ"
      },
      "source": [
        "clx=vq(data,centroids)\n",
        "clx"
      ],
      "execution_count": null,
      "outputs": []
    },
    {
      "cell_type": "code",
      "metadata": {
        "id": "YEFCjj1DTcAD"
      },
      "source": [
        "#fast fourier transforms\n",
        "from scipy.fftpack import fft\n",
        "x=np.array([1.0,2.0,1.0,-1.0])\n",
        "y=fft(x)\n",
        "print(\"fft:\\n\",y)"
      ],
      "execution_count": null,
      "outputs": []
    },
    {
      "cell_type": "code",
      "metadata": {
        "id": "uDagwq6TS6Iv"
      },
      "source": [
        "#discrete cosine transform\n",
        "from scipy.fftpack import dct\n",
        "print(\"dct:\\n\",dct(np.array([4.,3.,5.,10.,5.,3.])))"
      ],
      "execution_count": null,
      "outputs": []
    },
    {
      "cell_type": "code",
      "metadata": {
        "id": "Go4o59RGTOlT"
      },
      "source": [
        "#inverse discrete cosine transforms\n",
        "from scipy.fftpack import idct\n",
        "print(\"idct:\\n\",idct(np.array([4.,3.,5.,10.,5.,3.])))"
      ],
      "execution_count": null,
      "outputs": []
    },
    {
      "cell_type": "code",
      "metadata": {
        "id": "0flbSA8HT1bl"
      },
      "source": [
        "#scipy integration\n",
        "import scipy.integrate\n",
        "from numpy import exp\n",
        "f=lambda x:exp(-x**2)\n",
        "i=scipy.integrate.quad(f,0,1)\n",
        "print(i)"
      ],
      "execution_count": null,
      "outputs": []
    },
    {
      "cell_type": "code",
      "metadata": {
        "id": "zlgbYB9nUK8S"
      },
      "source": [
        "#linear algebra\n",
        "x+3y+5z=10\n",
        "2x+5y+z=8\n",
        "2x+3y+8z=3"
      ],
      "execution_count": null,
      "outputs": []
    },
    {
      "cell_type": "code",
      "metadata": {
        "id": "2YVXVvAmUZYC"
      },
      "source": [
        "from scipy import linalg\n",
        " \n",
        "import numpy as np\n",
        "a=np.array([1,3,5],[2,5,1],[2,3,8])\n",
        "b=np.array([10,8,3])\n",
        "x=linalg.solve(a,b)\n",
        "print(x)"
      ],
      "execution_count": null,
      "outputs": []
    },
    {
      "cell_type": "code",
      "metadata": {
        "id": "tDrcBngXU3g9"
      },
      "source": [
        "#finding a determinant\n",
        "from scipy import linalg\n",
        " \n",
        "import numpy as np\n",
        "A=np.array([[1,2],[3,4]])\n",
        "x=linalg.det(a)\n",
        "print(x)"
      ],
      "execution_count": null,
      "outputs": []
    },
    {
      "cell_type": "code",
      "metadata": {
        "id": "jcI73tvrU3--"
      },
      "source": [
        "#eigen values and eigen vectors\n",
        "from scipy import linalg\n",
        " \n",
        "import numpy as np\n",
        "A=np.array([[1,2],[3,4]])\n",
        "l,v=linalg.eig(A)\n",
        "print(\"eigen values:\\n\",l)\n",
        "print(\"eigen vectors:\\n\",v)"
      ],
      "execution_count": null,
      "outputs": []
    },
    {
      "cell_type": "markdown",
      "metadata": {
        "id": "V7GXR7n6ug6E"
      },
      "source": [
        "#MATPLOTLIB"
      ]
    },
    {
      "cell_type": "code",
      "metadata": {
        "id": "kDSzpl6JuXSt"
      },
      "source": [
        "#import library\n",
        "\n",
        "import matplotlib.pyplot as plt\n",
        "import numpy as np\n",
        "\n",
        "x=np.arange(5)\n",
        "y=(35,45,28,37,60)\n",
        "\n",
        "plt.bar(x,y)\n",
        "plt.show()"
      ],
      "execution_count": null,
      "outputs": []
    },
    {
      "cell_type": "code",
      "metadata": {
        "id": "WngQyXMfuo16"
      },
      "source": [
        "plt.scatter(x,y)\n",
        "plt.show()"
      ],
      "execution_count": null,
      "outputs": []
    },
    {
      "cell_type": "code",
      "metadata": {
        "id": "1QJ6ZGyxurCC"
      },
      "source": [
        "import pandas as pd\n",
        "from sklearn.datasets import load_iris\n",
        "\n",
        "iris=load_iris()\n",
        "df=pd.DataFrame(iris.data)\n",
        "df.columns=['sepal_length','sepal_width','petal_length','petal_width']\n",
        "df.head()"
      ],
      "execution_count": null,
      "outputs": []
    },
    {
      "cell_type": "code",
      "metadata": {
        "id": "cjHUpnZ8uvI0"
      },
      "source": [
        "df.hist()\n",
        "plt.show()"
      ],
      "execution_count": null,
      "outputs": []
    },
    {
      "cell_type": "code",
      "metadata": {
        "id": "24vKZWZduzLo"
      },
      "source": [
        "df.plot()\n",
        "plt.show()\n"
      ],
      "execution_count": null,
      "outputs": []
    },
    {
      "cell_type": "code",
      "metadata": {
        "id": "hm3G7xWUvF5L"
      },
      "source": [
        "df.boxplot()\n",
        "plt.show()"
      ],
      "execution_count": null,
      "outputs": []
    },
    {
      "cell_type": "code",
      "metadata": {
        "id": "z_ehTLPevLTT"
      },
      "source": [
        "#Custom labels\n",
        "x=np.linspace(0,20,1000)\n",
        "y=np.sin(x)\n",
        "\n",
        "plt.plot(x,y,label='sample Label')\n",
        "plt.title('sample plot Title')\n",
        "plt.xlabel('x axis label')\n",
        "plt.ylabel('y axis label')\n",
        "plt.grid(True)\n",
        "\n",
        "plt.figtext(0.5, 0.01, 'Fig1: sinusoidal', ha='right', va='bottom')\n",
        "\n",
        "plt.legend(loc='best',framealpha=0.5,prop={'size':'small'})\n",
        "\n",
        "plt.tight_layout(pad=1)\n",
        "\n",
        "plt.show()"
      ],
      "execution_count": null,
      "outputs": []
    }
  ]
}