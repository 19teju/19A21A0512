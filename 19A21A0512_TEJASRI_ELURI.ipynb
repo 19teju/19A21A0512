{
  "nbformat": 4,
  "nbformat_minor": 0,
  "metadata": {
    "colab": {
      "name": "19A21A0512 -TEJASRI.ELURI",
      "provenance": [],
      "authorship_tag": "ABX9TyNfIzmXbCNEN92OO2F9EivF",
      "include_colab_link": true
    },
    "kernelspec": {
      "name": "python3",
      "display_name": "Python 3"
    },
    "language_info": {
      "name": "python"
    }
  },
  "cells": [
    {
      "cell_type": "markdown",
      "metadata": {
        "id": "view-in-github",
        "colab_type": "text"
      },
      "source": [
        "<a href=\"https://colab.research.google.com/github/19teju/19A21A0512/blob/main/19A21A0512_TEJASRI_ELURI.ipynb\" target=\"_parent\"><img src=\"https://colab.research.google.com/assets/colab-badge.svg\" alt=\"Open In Colab\"/></a>"
      ]
    },
    {
      "cell_type": "code",
      "metadata": {
        "id": "0i0SI9lEvPxq"
      },
      "source": [
        "a=10\n",
        "b=51\n",
        "print(a+b)\n",
        "print(a*b)\n",
        "print(\"welcome to PYTHON\")"
      ],
      "execution_count": null,
      "outputs": []
    },
    {
      "cell_type": "code",
      "metadata": {
        "id": "o0JETK3RzbjU"
      },
      "source": [
        "##DISTANCE BETWEEN TWO POINTS##\n",
        "\n",
        "import math\n",
        "x1=int(input(\"enter value of x1:\"))\n",
        "x2=int(input(\"enter value of x2:\"))\n",
        "y1=int(input(\"enter value of y1:\"))\n",
        "y2=int(input(\"enter value of y2:\"))\n",
        "d=math.sqrt((x2-x1)**2)+((y2-y1)**2)\n",
        "print(\"Distance between ({},{}) and ({},{}) points is {}:\".format(x1,y1,x2,y2,d))\n"
      ],
      "execution_count": null,
      "outputs": []
    },
    {
      "cell_type": "code",
      "metadata": {
        "id": "b87QQkt44liP"
      },
      "source": [
        "## check the given number is even or not##\n",
        "\n",
        "n=int(input(\"enter a number:\"))\n",
        "if n%2==0:\n",
        "  print(\"given number is EVEN NUMBER\")\n",
        "else:\n",
        "  print(\"given number is NOT EVEN NUMBER,it is ODD number\")"
      ],
      "execution_count": null,
      "outputs": []
    },
    {
      "cell_type": "code",
      "metadata": {
        "id": "ZMGKBXp86ocL"
      },
      "source": [
        "## DECIMAL EQUIVALENT ##\n",
        "\n",
        "n=int(input(\"enter a number:\"))\n",
        "for i in range(2,n):\n",
        "  de=1/i\n",
        "  print(\"1/\"+str(i)+\"=\",de)"
      ],
      "execution_count": null,
      "outputs": []
    }
  ]
}