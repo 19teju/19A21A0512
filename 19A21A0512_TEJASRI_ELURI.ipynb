{
  "nbformat": 4,
  "nbformat_minor": 0,
  "metadata": {
    "colab": {
      "name": "19A21A0512 -TEJASRI.ELURI",
      "provenance": [],
      "authorship_tag": "ABX9TyMNvhZQGuJRuBNxd4oaobz4",
      "include_colab_link": true
    },
    "kernelspec": {
      "name": "python3",
      "display_name": "Python 3"
    },
    "language_info": {
      "name": "python"
    }
  },
  "cells": [
    {
      "cell_type": "markdown",
      "metadata": {
        "id": "view-in-github",
        "colab_type": "text"
      },
      "source": [
        "<a href=\"https://colab.research.google.com/github/19teju/19A21A0512/blob/main/19A21A0512_TEJASRI_ELURI.ipynb\" target=\"_parent\"><img src=\"https://colab.research.google.com/assets/colab-badge.svg\" alt=\"Open In Colab\"/></a>"
      ]
    },
    {
      "cell_type": "markdown",
      "metadata": {
        "id": "jJTCFgsFa2bY"
      },
      "source": [
        "# PYTHON LAB EXERCISE PROGRAMS"
      ]
    },
    {
      "cell_type": "markdown",
      "metadata": {
        "id": "KyfFiuS6bkde"
      },
      "source": [
        "\n",
        "```\n",
        " NAME   :Tejasri.Eluri\n",
        " REGD NO:19A21A0512\n",
        " SECTION:CSE-A\n",
        " LAB    :Python\n",
        "```\n",
        "\n"
      ]
    },
    {
      "cell_type": "markdown",
      "metadata": {
        "id": "K8J405R9R6az"
      },
      "source": [
        "# EXERCISE-1  BASICS"
      ]
    },
    {
      "cell_type": "markdown",
      "metadata": {
        "id": "cyt4enldcfJ7"
      },
      "source": [
        "**1.sample program of python?**"
      ]
    },
    {
      "cell_type": "code",
      "metadata": {
        "id": "0i0SI9lEvPxq"
      },
      "source": [
        "a=10\n",
        "b=51\n",
        "print(a+b)\n",
        "print(a*b)\n",
        "print(\"welcome to PYTHON\")"
      ],
      "execution_count": null,
      "outputs": []
    },
    {
      "cell_type": "markdown",
      "metadata": {
        "id": "o77C-PaVRyhK"
      },
      "source": [
        "# EXERCISE-2  OPERATIONS"
      ]
    },
    {
      "cell_type": "markdown",
      "metadata": {
        "id": "A2JDzp4acxp7"
      },
      "source": [
        "**2A)Write a program to compute distance between two points taking input from the user(pythagorean theorem)** "
      ]
    },
    {
      "cell_type": "code",
      "metadata": {
        "id": "o0JETK3RzbjU"
      },
      "source": [
        "##DISTANCE BETWEEN TWO POINTS##\n",
        "\n",
        "import math\n",
        "x1=int(input(\"enter value of x1:\"))\n",
        "x2=int(input(\"enter value of x2:\"))\n",
        "y1=int(input(\"enter value of y1:\"))\n",
        "y2=int(input(\"enter value of y2:\"))\n",
        "d=math.sqrt((x2-x1)**2)+((y2-y1)**2)\n",
        "print(\"Distance between ({},{}) and ({},{}) points is {}:\".format(x1,y1,x2,y2,d))\n"
      ],
      "execution_count": null,
      "outputs": []
    },
    {
      "cell_type": "markdown",
      "metadata": {
        "id": "ae1ohjr_wTjO"
      },
      "source": [
        "**2B)Write a program add.py that takes 2 numbers as command line argumaments and prints the sum?**"
      ]
    },
    {
      "cell_type": "code",
      "metadata": {
        "id": "jubngcd3wiLj"
      },
      "source": [
        "import sys\n",
        "a=int(input(sys.argv[1]))\n",
        "b=int(input(sys.argv[2]))\n",
        "sum=a+b\n",
        "print(\"sum of two values:\",sum)"
      ],
      "execution_count": null,
      "outputs": []
    },
    {
      "cell_type": "markdown",
      "metadata": {
        "id": "MaV1sbKcRr6Y"
      },
      "source": [
        "#  EXERCISE-3  CONTROL FLOW"
      ]
    },
    {
      "cell_type": "markdown",
      "metadata": {
        "id": "7SZHRS5NdPFd"
      },
      "source": [
        "**3A)Write a program for checking whether the given number is an even number or not?**"
      ]
    },
    {
      "cell_type": "code",
      "metadata": {
        "id": "b87QQkt44liP"
      },
      "source": [
        "## check the given number is even or not##\n",
        "\n",
        "n=int(input(\"enter a number:\"))\n",
        "if n%2==0:\n",
        "  print(\"given number is EVEN NUMBER\")\n",
        "else:\n",
        "  print(\"given number is NOT EVEN NUMBER,it is ODD number\")"
      ],
      "execution_count": null,
      "outputs": []
    },
    {
      "cell_type": "markdown",
      "metadata": {
        "id": "TVTdwHb2dpSR"
      },
      "source": [
        "**3B)Using a for loop write a program to print out the decimal equivalents of 1/2,1/3,1/4,.....,1/(n-1)?**"
      ]
    },
    {
      "cell_type": "code",
      "metadata": {
        "id": "ZMGKBXp86ocL"
      },
      "source": [
        "## DECIMAL EQUIVALENT ##\n",
        "\n",
        "n=int(input(\"enter a number:\"))\n",
        "for i in range(2,n):\n",
        "  de=1/i\n",
        "  print(\"1/\"+str(i)+\"=\",de)"
      ],
      "execution_count": null,
      "outputs": []
    },
    {
      "cell_type": "markdown",
      "metadata": {
        "id": "LktvYOi8eHkt"
      },
      "source": [
        "**3C)Write a program using for loop that loops over a sequence?**"
      ]
    },
    {
      "cell_type": "code",
      "metadata": {
        "id": "1RWmooy39sjt"
      },
      "source": [
        "## NUMBER SEQUENCE ##\n",
        "\n",
        "print(\"number sequence:\")\n",
        "num=[10,20,30,40,50]\n",
        "for i in num:\n",
        "  print(i)\n",
        "print(\"\\n\\n\")\n",
        "\n",
        "##string sequence##\n",
        "print(\"string sequence\")\n",
        "string=[\"sun\",\"mon\",\"5\",\"375\"]\n",
        "for s in string:\n",
        "  print(s)"
      ],
      "execution_count": null,
      "outputs": []
    },
    {
      "cell_type": "markdown",
      "metadata": {
        "id": "VvqTyfpoejVx"
      },
      "source": [
        "**3D)Write a program using a while loop that asks the user for a number,and prints a countdown from that number to zero?**"
      ]
    },
    {
      "cell_type": "code",
      "metadata": {
        "id": "d7PR-otaBRxA"
      },
      "source": [
        "## COUNTDOWN FROM N TO ZERO ##\n",
        "\n",
        "n=int(input(\"enter a number:\"))\n",
        "while n>0:\n",
        "  print(n)\n",
        "  n-=1"
      ],
      "execution_count": null,
      "outputs": []
    },
    {
      "cell_type": "markdown",
      "metadata": {
        "id": "VoQB2bzWRjQI"
      },
      "source": [
        "# EXERCISE-4  CONTROL FLOW-CONTINUED"
      ]
    },
    {
      "cell_type": "markdown",
      "metadata": {
        "id": "wYSXNzY3hUMS"
      },
      "source": [
        "**4A)Find the sum of all the prims below 2 million?**"
      ]
    },
    {
      "cell_type": "code",
      "metadata": {
        "id": "FcGP07nngf-Q"
      },
      "source": [
        "n=int(input(\"enter the ending number:\"))\n",
        "sum=0\n",
        "for i in range(2,n+1):\n",
        "    c=0\n",
        "    for j in range(2,i+1):\n",
        "        if i%j==0:\n",
        "            c+=1\n",
        "    if(c==1):\n",
        "        print(i,end=' ')    \n",
        "        sum+=i\n",
        "\n",
        "print(\"\") \n",
        "print(\"Sum of prime numbers is: \",sum)"
      ],
      "execution_count": null,
      "outputs": []
    },
    {
      "cell_type": "markdown",
      "metadata": {
        "id": "PAFiy3P3hqtj"
      },
      "source": [
        "**4B)Each new term in the fibonacci sequence is generated by adding the previous two terms by starting with 1&2,the first 10 terms will be:1,2,3,5,8,13,21,34,55,89,......**"
      ]
    },
    {
      "cell_type": "code",
      "metadata": {
        "id": "wWaY8LT0HbQK"
      },
      "source": [
        "## FIBONACCI SERIES ##\n",
        "\n",
        "n=int(input(\"enter Limit for Fibonacci sequence:\"))\n",
        "a=0\n",
        "b=1\n",
        "c=a+b\n",
        "count=0\n",
        "while c<n:\n",
        "    print(c,end=' ')\n",
        "    a=b\n",
        "    b=c\n",
        "    c=a+b\n",
        "    count+=1\n",
        "print(\"\\n\")\n",
        "print(\"fibonacci sequence numbers count:\",count)"
      ],
      "execution_count": null,
      "outputs": []
    },
    {
      "cell_type": "markdown",
      "metadata": {
        "id": "HK8Yce56jGCx"
      },
      "source": [
        "**4C)By considering the terms in the fibonacci sequence whose values do not exceed 4 million find the sum of the even valued terms?** "
      ]
    },
    {
      "cell_type": "code",
      "metadata": {
        "id": "MBqXy6RimB86"
      },
      "source": [
        "n=int(input(\"enter Limit for Fibonacci sequence:\"))\n",
        "a=0\n",
        "b=1\n",
        "c=a+b\n",
        "sum=0\n",
        "while c<n:\n",
        "    a=b\n",
        "    b=c\n",
        "    c=a+b\n",
        "    if c%2==0:\n",
        "        print(c,end=' ')\n",
        "        sum+=c\n",
        "print(\"\")        \n",
        "print(\"sum of even valued terms in fibonacci sequence is=\",sum)"
      ],
      "execution_count": null,
      "outputs": []
    },
    {
      "cell_type": "markdown",
      "metadata": {
        "id": "73rrtv9ZRc49"
      },
      "source": [
        "# EXERCISE-5  DATA STRUCTURES"
      ]
    },
    {
      "cell_type": "markdown",
      "metadata": {
        "id": "gKqXtTAAku7c"
      },
      "source": [
        "**5A)Write a program to count the number of characters in the string and store them in a dictionary data structure?**"
      ]
    },
    {
      "cell_type": "code",
      "metadata": {
        "id": "Z-gO0nSCj0VB"
      },
      "source": [
        "lst=[]\n",
        "for i in range(1,6):\n",
        "   lst.append(input(\"enter the name:\"))\n",
        "print(\"list is:\",lst)\n",
        "dic={}\n",
        "for na in lst:\n",
        "   dic[na]=len(na)\n",
        "print(\"dictionary is:\",dic)"
      ],
      "execution_count": null,
      "outputs": []
    },
    {
      "cell_type": "markdown",
      "metadata": {
        "id": "T6txPbwzpqoi"
      },
      "source": [
        "**5B)Write a program to use split and join methods in the string and trace a birthday with a dictionary data structure?**"
      ]
    },
    {
      "cell_type": "code",
      "metadata": {
        "id": "JeJeUCS_p6BK"
      },
      "source": [
        " dob={\"bunny\":\"27-04-2021\",\"teju\":\"28-10-2000\"}\n",
        "\n",
        "name=input(\"which person Dob you want : \")\n",
        "l=name.split()\n",
        "for i in l:\n",
        "  if i in dob.keys():\n",
        "    print(\" \".join([i,\"birthday is \",dob[i]]))"
      ],
      "execution_count": null,
      "outputs": []
    },
    {
      "cell_type": "markdown",
      "metadata": {
        "id": "BfwZygc2RWB8"
      },
      "source": [
        "# EXERCISE-6  DS-CONTINUED"
      ]
    },
    {
      "cell_type": "markdown",
      "metadata": {
        "id": "E7PfsrLqtJXQ"
      },
      "source": [
        "**6A)Write a program combine lists that combines these lists into a dictionary?**"
      ]
    },
    {
      "cell_type": "code",
      "metadata": {
        "id": "v86Jkc0NuIG2"
      },
      "source": [
        "sub=[\"DAA\",\"OS\",\"SE\",\"P&S\",\"DBMS\",\"PPL\"]\n",
        "marks=[90,91,90,95,89,91]\n",
        "print(sub)\n",
        "print(marks)\n",
        "dic=dict(zip(sub,marks))\n",
        "print(dic)\n"
      ],
      "execution_count": null,
      "outputs": []
    },
    {
      "cell_type": "markdown",
      "metadata": {
        "id": "Qm2FJHk0vF4z"
      },
      "source": [
        "**6B)Write a program to count frequency of characters in a given file can you use character frequency to fall whether the given file is a python program file,c program file or a text file? **"
      ]
    },
    {
      "cell_type": "code",
      "metadata": {
        "id": "hHswlYKcweTn"
      },
      "source": [
        "filetypes=['.py','.c','.txt']\n",
        "fn=input(\"enter the file name:\")\n",
        "f=open(fn,\"r\")\n",
        "count=dict()\n",
        "for ft in filetypes:\n",
        "  if (ft in fn):\n",
        "    if(ft=='.py'):\n",
        "      print(\"python file\")\n",
        "    elif(ft=='.c'):\n",
        "      print(\"c file\")\n",
        "    elif(ft=='.txt'):\n",
        "      print(\"text file\")\n",
        "for line in f:\n",
        "  for ch in line:\n",
        "    if ch in count:\n",
        "      count[ch]=count[ch]+1\n",
        "    else:\n",
        "      count[ch]=1\n",
        "print(count)\n",
        "f.close()"
      ],
      "execution_count": null,
      "outputs": []
    },
    {
      "cell_type": "markdown",
      "metadata": {
        "id": "w5ctutUhRPny"
      },
      "source": [
        "# EXERCISE-7  FILES"
      ]
    },
    {
      "cell_type": "markdown",
      "metadata": {
        "id": "Fo6XUgl8UxUV"
      },
      "source": [
        "**7A)Write a program to print the line of a file in reverse order?**"
      ]
    },
    {
      "cell_type": "code",
      "metadata": {
        "id": "RoNh4TadVS6U"
      },
      "source": [
        "obj=open(\"abc.txt\",\"r\")\n",
        "if obj:\n",
        "  st=obj.read()\n",
        "  print(\"file content is:\\n\",st)\n",
        "obj.close()\n",
        "print()\n",
        "lines=st.split(\"\\n\")\n",
        "for ln in lines:\n",
        "  i=lcn(ln)-1\n",
        "  while(i>=0):\n",
        "    print(ln[i],end=\"\")\n",
        "    i=i-1\n",
        "  print()"
      ],
      "execution_count": null,
      "outputs": []
    },
    {
      "cell_type": "markdown",
      "metadata": {
        "id": "Wu-CDj1BVVOy"
      },
      "source": [
        "**7B)Write a program to compute the number of characters,words and lines in a file?**\n"
      ]
    },
    {
      "cell_type": "code",
      "metadata": {
        "id": "2dbTG5vaXFmJ"
      },
      "source": [
        "nc=nw=nl=0\n",
        "file=open(\"abc.txt\",\"r\")\n",
        "nl=nw=nc=0\n",
        "print(\"file content:\\n\")\n",
        "for line in file:\n",
        "  ln=line.strip(\"\\n\")\n",
        "  print(ln)\n",
        "  words=ln.split()\n",
        "  nl+=l\n",
        "  nw+=len(words)\n",
        "  nc+=len(line)\n",
        "  file.close()\n",
        "  print(\"\\n no of lines:\",nl,\"words:\",nw,\"characters\",nc,)"
      ],
      "execution_count": null,
      "outputs": []
    },
    {
      "cell_type": "markdown",
      "metadata": {
        "id": "MwH5IMSjRHP9"
      },
      "source": [
        "# EXERCISE-8  FUNCTIONS"
      ]
    },
    {
      "cell_type": "markdown",
      "metadata": {
        "id": "baR_afO-Ydy0"
      },
      "source": [
        "**8A)Write a function ball collide that takes two balls as parameters &compute if they are colliding.your function should return a boolean representing whether or not the balls are colliding?**"
      ]
    },
    {
      "cell_type": "code",
      "metadata": {
        "id": "fcfotPSYYemw"
      },
      "source": [
        "import math\n",
        "def collide(ball1,ball2):\n",
        "   x1,y1,r1=ball1\n",
        "   x2,y2,r2=ball2\n",
        "   print(\"Ball-1: \",ball1)\n",
        "   print(\"Ball-2: \",ball2)\n",
        "   d=math.sqrt((x2-x1)*2+(y2-y1)*2)\n",
        "   print(\"Centroid Distance of two balls: \",d)\n",
        "   print(\"sum of radius ball-1 and ball-2 is {}+{}={}\".format(r1,r2,r1+r2))\n",
        "   if(d<=r1+r2):\n",
        "     return True\n",
        "   else:\n",
        "     return False\n",
        "b1=(10,5,25)\n",
        "b2=(14,12,32)\n",
        "if collide(b1,b2):\n",
        "  print(\"BAll are Colliode...!\")\n",
        "else:\n",
        "  print(\"BAll are not Collide...!\")"
      ],
      "execution_count": null,
      "outputs": []
    },
    {
      "cell_type": "markdown",
      "metadata": {
        "id": "ahj4Lmw3dM49"
      },
      "source": [
        "**8B)Find the mean,median and mode for a given set of numbers in a list?**"
      ]
    },
    {
      "cell_type": "code",
      "metadata": {
        "id": "CR0jGQfQdNsQ"
      },
      "source": [
        "def list_mean(num_list):\n",
        "  return sum(num_list)/len(num_list)\n",
        "def list_median(num_list):\n",
        "  num_list.sort()\n",
        "  n=len(num_list)\n",
        "  mid=n/2\n",
        "  if (n%2==1):\n",
        "    return num_list[mid]\n",
        "  else:\n",
        "    return (num_list[mid-1]+num_list[mid])/2\n",
        "def list_mode(num_list):\n",
        "  num_list.sort()\n",
        "  temp=[]\n",
        "  i=0\n",
        "  while i<len(num_list):\n",
        "    temp.append(num_list.count(num_list[i]))\n",
        "    i+=1\n",
        "    dic=dict(zip(num_list,temp))\n",
        "    mode={k for (k,v) in dic.items() if v==max(temp)}\n",
        "    return mode\n",
        "  lst=[4,5,8,1,3,5,4,8,2,1,0,6,2]\n",
        "  print(\"given list is:\",list)\n",
        "  print(\"mean of the given list:\",list_mean(lst))\n",
        "  print(\"median of the given list:\",list_median(lst))\n",
        "  print(\"mode of the given list:\",list_mode(lst))"
      ],
      "execution_count": null,
      "outputs": []
    },
    {
      "cell_type": "markdown",
      "metadata": {
        "id": "mHlZrEIEQ-WX"
      },
      "source": [
        "# EXERCISE-9  FUNCTIONS CONTINUED"
      ]
    },
    {
      "cell_type": "markdown",
      "metadata": {
        "id": "WL3ngoI3n7zu"
      },
      "source": [
        "**9A)Write a function nearly equal to test whether two strings are nearly equal.2 strings a and b are nearly equal when a can be generated by a single mutation on b?**\n"
      ]
    },
    {
      "cell_type": "code",
      "metadata": {
        "id": "v7RVMIdsoXh2"
      },
      "source": [
        "def equal(str1,str2):\n",
        "  count=0\n",
        "  i=j=0\n",
        "  while (i<len(str1)and j<len(str2)):\n",
        "    if (str[i]!=str2[j]):\n",
        "      count+=1\n",
        "      if (len(str1)>len(str2)):\n",
        "        i+=1\n",
        "      elif (len(str1)==len(str2)):\n",
        "        pass\n",
        "      else:\n",
        "        i-=1\n",
        "      if (count>1):\n",
        "        return False\n",
        "      i+=1\n",
        "      j+=1\n",
        "      if (count<2):\n",
        "        return True\n",
        "      s1=input(\"enter string1\")\n",
        "      s2=input(\"enter string2\")\n",
        "      bln=equal(s1,s2)\n",
        "      if (bln):\n",
        "        print(\"strings are equal\")\n",
        "      else:\n",
        "        print(\"strings are not equal\")"
      ],
      "execution_count": null,
      "outputs": []
    },
    {
      "cell_type": "markdown",
      "metadata": {
        "id": "gIaY_bCgoYby"
      },
      "source": [
        "**9B)Write a function dup to find all the duplivates in the list?**"
      ]
    },
    {
      "cell_type": "code",
      "metadata": {
        "id": "1P0SKdtWoZKA"
      },
      "source": [
        "def dup(numlist):\n",
        "  temp=[]\n",
        "  for i in numlist:\n",
        "    cnt=numlist.count(i)\n",
        "    if (cnt>1 and (i not in temp)):\n",
        "      temp.append(i)\n",
        "    print(\"duplicates in the list:\",lst)\n",
        "lst=[1,5,1,2,4,5,4,6]\n",
        "print(\"given elements in the list:\",lst)\n",
        "dup(list)"
      ],
      "execution_count": null,
      "outputs": []
    },
    {
      "cell_type": "markdown",
      "metadata": {
        "id": "vnfZFPjTrnRq"
      },
      "source": [
        "**9C)Write a function unique to find all the unique elements of a list?**"
      ]
    },
    {
      "cell_type": "code",
      "metadata": {
        "id": "QvS61brfr0q0"
      },
      "source": [
        "def unique(numlist):\n",
        "  temp=[]\n",
        "  for i in numlist:\n",
        "    cnt=numlist.count(i)\n",
        "    if cnt==1:\n",
        "      temp.append(i)\n",
        "    print(\"unique elements in the list:\",temp)\n",
        "lst=[1,5,1,4,2,3,6,5,4,8,9]\n",
        "print(\"given elements in the list:\",lst)\n",
        "unique(lst)"
      ],
      "execution_count": null,
      "outputs": []
    },
    {
      "cell_type": "markdown",
      "metadata": {
        "id": "zIo-ejskQyii"
      },
      "source": [
        "# EXERCISE-10 FUNCTIONS-PROBLEM SOLVING"
      ]
    },
    {
      "cell_type": "markdown",
      "metadata": {
        "id": "P3XgzsnIsryO"
      },
      "source": [
        "**10A)Write a function cumulative product to compute product of a list of numbers?**\n"
      ]
    },
    {
      "cell_type": "code",
      "metadata": {
        "id": "cWbr1KFys3s2"
      },
      "source": [
        "def cum_prod(numlist):\n",
        "  prod=1\n",
        "  temp=[]\n",
        "  for i in numlist:\n",
        "    prod*=i\n",
        "    temp.append(prod)\n",
        "  return temp\n",
        "lst=[1,5,4,7,8]\n",
        "print(\"given list is:\",lst)\n",
        "print(\"cumulative product is:\",cum_prod(lst)) "
      ],
      "execution_count": null,
      "outputs": []
    },
    {
      "cell_type": "markdown",
      "metadata": {
        "id": "980ozqR0tdex"
      },
      "source": [
        "**10B)Write a function reverse to reverse a list without using reverse function?**"
      ]
    },
    {
      "cell_type": "code",
      "metadata": {
        "id": "3VNMBPjAtodV"
      },
      "source": [
        "def reverse_lst(numlist):\n",
        "  i=0\n",
        "  j=len(numlist)-1\n",
        "  while i<=j:\n",
        "    temp=numlist[i]\n",
        "    numlist[i]=numlist[j]\n",
        "    numlist[j]=temp\n",
        "    j-=1\n",
        "    i+=1\n",
        "  return numlist\n",
        "lst=[4,5,7,1,2,5,4,1]\n",
        "print(\"given list is:\",lst)\n",
        "reverse_lst(lst)\n",
        "print(\"reverse of the given list is:\",lst)"
      ],
      "execution_count": null,
      "outputs": []
    },
    {
      "cell_type": "markdown",
      "metadata": {
        "id": "MZ637x3ZueO_"
      },
      "source": [
        "**10C)Write a function to compute gcd,lcm of 2 numbers each function shouldnot exceed one line?**\n"
      ]
    },
    {
      "cell_type": "code",
      "metadata": {
        "id": "o5cg_2kAurl7"
      },
      "source": [
        "gcd=lambda a,b:a if b==0 else gcd(a,a%b)\n",
        "lcm=lambda a,b:(a*b)/gcd(a,b)\n",
        "x=5\n",
        "y=32\n",
        "print(\"the given numbers are:\",x,y)\n",
        "print(\"gcd is:\",gcd(x,y))\n",
        "print(\"lcm is:\",lcm(x,y))\n"
      ],
      "execution_count": null,
      "outputs": []
    },
    {
      "cell_type": "markdown",
      "metadata": {
        "id": "Y8nTf9EhQnlu"
      },
      "source": [
        "# EXERCISE-11 MULTIDIMENTIONAL LISTS"
      ]
    },
    {
      "cell_type": "markdown",
      "metadata": {
        "id": "59YQKE00DGgr"
      },
      "source": [
        "**11A)Write a program that defines a matrix and print?**\n"
      ]
    },
    {
      "cell_type": "code",
      "metadata": {
        "id": "oH4YNVbeDIr3"
      },
      "source": [
        "matA=[[]]\n",
        "rows=int(input(\"Enter row size of matrix: \"))\n",
        "cols=int(input(\"Enter column size of matrix: \"))\n",
        "matA=[[int(input(\"Enter[%d,%d] value: \"%(i,j)))for j in range(cols)]for i in range(rows)]\n",
        "print(\"OBTAINED MATRIX IS: \")\n",
        "for i in range(rows):\n",
        "  for j in range(cols):\n",
        "    print(matA[i][j],end='\\t')\n",
        "  print()"
      ],
      "execution_count": null,
      "outputs": []
    },
    {
      "cell_type": "markdown",
      "metadata": {
        "id": "-n7Upmc2GyCC"
      },
      "source": [
        "**11B)Write a program to perform addition of two square matrices?**"
      ]
    },
    {
      "cell_type": "code",
      "metadata": {
        "id": "SGF1sL76HAI2"
      },
      "source": [
        "def matRead(r,c):\n",
        "  return[[int(input(\"[%d,%d]value:\"%(i,j)))for j in range(c)]for i in range(r)]\n",
        "def matDisp(mat,r,c):\n",
        "  for i in range(r):\n",
        "    for j in range(c):\n",
        "      print(mat[i][j],end='\\t')\n",
        "    print()\n",
        "matA=[[]]\n",
        "matB=[[]]       \n",
        "matSum=[[]]\n",
        "rows=int(input(\"Enter row size of the matrix: \"))\n",
        "cols=int(input(\"Enter column size of the matrix: \"))\n",
        "if rows==cols:\n",
        "  print(\"Enter Matrix-A elements: \")\n",
        "  matA=matRead(rows,cols)\n",
        " \n",
        "  print(\"Enter Matrix-B elements: \")\n",
        "  matB=matRead(rows,cols)\n",
        " \n",
        "  print(\"Matrix-A is: \")\n",
        "  matDisp(matA,rows,cols)\n",
        " \n",
        "  print(\"Matrix-B is: \")\n",
        "  matDisp(matB,rows,cols)\n",
        "  matSum=[[matA[i][j]+matB[i][j]for j in range(cols)]for i in range(rows)]\n",
        "  print(\"sum of matrices is: \")\n",
        "  matDisp(matSum,rows,cols)\n",
        "else:\n",
        "  print(\"Matrices addition is not possible\")\n"
      ],
      "execution_count": null,
      "outputs": []
    },
    {
      "cell_type": "markdown",
      "metadata": {
        "id": "ghn9yHh5HpyY"
      },
      "source": [
        "**11C)Write a program to perform multiplication of two square matrices?**"
      ]
    },
    {
      "cell_type": "code",
      "metadata": {
        "id": "7n8yCETAH3LN"
      },
      "source": [
        "def  matRead(r,c):  \n",
        "  return[[int(input(\"[%d,%d]value: \"%(i,j)))for j in range(c)]for i in range(r)]\n",
        "def matDisp(mat,r,c):\n",
        "  for i in range(r):\n",
        "    for j in range(c):\n",
        "      print(mat[i][j],end=' ')\n",
        "matA=[[]]\n",
        "matB=[[]]\n",
        "matMul=[[]]\n",
        "rows=int(input(\"Enter row size of the Matrix: \"))\n",
        "cols=int(input(\"Enter column size of the Matrix: \"))\n",
        " \n",
        "if rows==cols:\n",
        "  print(\"Enter Matrix-A:\")\n",
        "  matA=matRead(rows,cols)\n",
        "  print(\"Enter Matrix-B:\")\n",
        "  matB=matRead(rows,cols)\n",
        " \n",
        "  matMul=[[0 for j in range(cols)]for i in range(rows)]\n",
        "  for i in range(rows):\n",
        "    for j in range(cols):\n",
        "      for k in range(cols):\n",
        "        matMul[i][j]+=matA[i][k]*matB[k][j]\n",
        "  print(\"Matrix-A is:\")\n",
        "  matDisp(matA,rows,cols)\n",
        " \n",
        "  print(\"\\nMatrix-B is:\")\n",
        "  matDisp(matB,rows,cols)\n",
        " \n",
        "  print(\"\\nMultiplication of matrices is:\")\n",
        "  matDisp(matMul,rows,cols)\n",
        "else:\n",
        "  print(\"\\nMatrices Multiplication is not possible\")\n"
      ],
      "execution_count": null,
      "outputs": []
    },
    {
      "cell_type": "markdown",
      "metadata": {
        "id": "9yjkIFe3QVjl"
      },
      "source": [
        "# EXERCISE-12 MODULES"
      ]
    },
    {
      "cell_type": "markdown",
      "metadata": {
        "id": "Aa5PX2kCNrG-"
      },
      "source": [
        "**12B)Write a script that imports requests and fetch content from the page?**"
      ]
    },
    {
      "cell_type": "code",
      "metadata": {
        "id": "w7QDGnnwOSwL"
      },
      "source": [
        "import requests\n",
        "r=requests.get('https://www.google.com')\n",
        "print(\"status code:\",r.status_code)\n",
        "print(\"header content:\",r.headers['content-type'])\n",
        "print(r.text)"
      ],
      "execution_count": null,
      "outputs": []
    },
    {
      "cell_type": "markdown",
      "metadata": {
        "id": "FxdnFN-eO7H7"
      },
      "source": [
        "**12C)Write a simple script that serves a simple HTTP response and a simple HTMLpage?**"
      ]
    },
    {
      "cell_type": "code",
      "metadata": {
        "id": "veGKIV5HPG7x"
      },
      "source": [
        "from flask import Flask,render_template\n",
        "app=Flask(__name__)\n",
        "print(app)\n",
        "@app.route(\"/\")\n",
        "def main():\n",
        "  return render_template('login.html')\n",
        "\n",
        "if__name__==\"__main__\":\n",
        "  app.run(host=\"127.0.0.1\",port=2500)\n"
      ],
      "execution_count": null,
      "outputs": []
    },
    {
      "cell_type": "markdown",
      "metadata": {
        "id": "R1_YLqtHQG0l"
      },
      "source": [
        "## EXERCISE-13 OOP"
      ]
    },
    {
      "cell_type": "markdown",
      "metadata": {
        "id": "aXcmHpdnKsx6"
      },
      "source": [
        "**13A)Class variables and instance variable and illustration of the self variable?1.ROBOT  2.ATM MACHINE**"
      ]
    },
    {
      "cell_type": "code",
      "metadata": {
        "id": "jSXP9ALAK0i8"
      },
      "source": [
        "##ROBOT##\n",
        "class Robot:\n",
        "    what=\"Machine\"\n",
        "    name=\"Chitti\"\n",
        "    version=1.0\n",
        "    speed=\"1THz\"\n",
        "    memory=\"1ZB\"\n",
        " \n",
        "    def update(upd):\n",
        "        upd.version=2.0\n",
        "        upd.speed=\"2THz\"\n",
        "        upd.memory=\"2ZB\"\n",
        " \n",
        "    def disp(self):\n",
        "        print(\"Myself is a\",robj.what)\n",
        "        print(\"MyName is\",robj.name)\n",
        "        print(\"Version :\",robj.version)\n",
        "        print(\"Speed : \",robj.speed)\n",
        "        print(\"Memory: \",robj.memory)\n",
        " \n",
        "robj=Robot()\n",
        "robj.disp()\n",
        " \n",
        "print(\"###---------------UPDATED VERSION----------------###\")\n",
        "robj.update()\n",
        "robj.disp()"
      ],
      "execution_count": null,
      "outputs": []
    },
    {
      "cell_type": "code",
      "metadata": {
        "id": "_GdiVQlbL2_X"
      },
      "source": [
        "##2.ATM MACHINE##\n",
        "class ATM:\n",
        "    def __init__(self):\n",
        "        self.balance=0\n",
        "        print(\"New Account\")        \n",
        "    def enquire(self):\n",
        "        print(\"Balance: \",self.balance)       \n",
        "    def deposit(self):\n",
        "        amount=int(input(\"Enter the Deposit Amount:\"))\n",
        "        self.balance+=amount\n",
        "        self.enquire()\n",
        "    def withdraw(self):\n",
        "        amount=int(input(\"Enter the Withdraw Amount: \"))\n",
        "        if self.balance<amount:\n",
        "            print(\"Insufficient Balance.......!\")\n",
        "        else:\n",
        "            self.balance-=amount\n",
        "            self.enquire()\n",
        "aobj=ATM()\n",
        "while(True):\n",
        "    print(\"*****Menu****\")\n",
        "    print(\"1.Deposit\")\n",
        "    print(\"2.Withdraw\")\n",
        "    print(\"3.Balance\")\n",
        "    print(\"0.Exit\")\n",
        "    ch=int(input(\"Enter Your Choice: \"))\n",
        "    if ch==0:\n",
        "        break\n",
        "    elif ch==1:\n",
        "        aobj.deposit()\n",
        "    elif ch==2:\n",
        "        aobj.withdraw()\n",
        "    elif ch==3:\n",
        "        aobj.enquire()\n",
        "    else:\n",
        "        print(\"Invalid choice:\")\n",
        "        pass"
      ],
      "execution_count": null,
      "outputs": []
    }
  ]
}